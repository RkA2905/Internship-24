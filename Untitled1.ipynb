{
 "cells": [
  {
   "cell_type": "code",
   "execution_count": 205,
   "id": "275c26b8",
   "metadata": {
    "scrolled": true
   },
   "outputs": [
    {
     "name": "stdout",
     "output_type": "stream",
     "text": [
      "Requirement already satisfied: selenium in c:\\users\\jitender\\anaconda3\\lib\\site-packages (4.1.0)\n",
      "Requirement already satisfied: urllib3[secure]~=1.26 in c:\\users\\jitender\\anaconda3\\lib\\site-packages (from selenium) (1.26.4)\n",
      "Requirement already satisfied: trio~=0.17 in c:\\users\\jitender\\anaconda3\\lib\\site-packages (from selenium) (0.19.0)\n",
      "Requirement already satisfied: trio-websocket~=0.9 in c:\\users\\jitender\\anaconda3\\lib\\site-packages (from selenium) (0.9.2)\n",
      "Requirement already satisfied: cffi>=1.14 in c:\\users\\jitender\\anaconda3\\lib\\site-packages (from trio~=0.17->selenium) (1.14.5)\n",
      "Requirement already satisfied: outcome in c:\\users\\jitender\\anaconda3\\lib\\site-packages (from trio~=0.17->selenium) (1.1.0)\n",
      "Requirement already satisfied: attrs>=19.2.0 in c:\\users\\jitender\\anaconda3\\lib\\site-packages (from trio~=0.17->selenium) (20.3.0)\n",
      "Requirement already satisfied: sniffio in c:\\users\\jitender\\anaconda3\\lib\\site-packages (from trio~=0.17->selenium) (1.2.0)\n",
      "Requirement already satisfied: idna in c:\\users\\jitender\\anaconda3\\lib\\site-packages (from trio~=0.17->selenium) (2.10)\n",
      "Requirement already satisfied: sortedcontainers in c:\\users\\jitender\\anaconda3\\lib\\site-packages (from trio~=0.17->selenium) (2.3.0)\n",
      "Requirement already satisfied: async-generator>=1.9 in c:\\users\\jitender\\anaconda3\\lib\\site-packages (from trio~=0.17->selenium) (1.10)\n",
      "Requirement already satisfied: pycparser in c:\\users\\jitender\\anaconda3\\lib\\site-packages (from cffi>=1.14->trio~=0.17->selenium) (2.20)\n",
      "Requirement already satisfied: wsproto>=0.14 in c:\\users\\jitender\\anaconda3\\lib\\site-packages (from trio-websocket~=0.9->selenium) (1.0.0)\n",
      "Requirement already satisfied: cryptography>=1.3.4 in c:\\users\\jitender\\anaconda3\\lib\\site-packages (from urllib3[secure]~=1.26->selenium) (3.4.7)\n",
      "Requirement already satisfied: pyOpenSSL>=0.14 in c:\\users\\jitender\\anaconda3\\lib\\site-packages (from urllib3[secure]~=1.26->selenium) (20.0.1)\n",
      "Requirement already satisfied: certifi in c:\\users\\jitender\\anaconda3\\lib\\site-packages (from urllib3[secure]~=1.26->selenium) (2020.12.5)\n",
      "Requirement already satisfied: six>=1.5.2 in c:\\users\\jitender\\anaconda3\\lib\\site-packages (from pyOpenSSL>=0.14->urllib3[secure]~=1.26->selenium) (1.15.0)\n",
      "Requirement already satisfied: h11<1,>=0.9.0 in c:\\users\\jitender\\anaconda3\\lib\\site-packages (from wsproto>=0.14->trio-websocket~=0.9->selenium) (0.12.0)\n"
     ]
    }
   ],
   "source": [
    "!pip install selenium"
   ]
  },
  {
   "cell_type": "code",
   "execution_count": 206,
   "id": "2bf8b50d",
   "metadata": {},
   "outputs": [],
   "source": [
    "import selenium \n",
    "from selenium import webdriver\n",
    "import pandas as pd \n",
    "import warnings \n",
    "warnings.filterwarnings(\"ignore\")"
   ]
  },
  {
   "cell_type": "code",
   "execution_count": 207,
   "id": "c7f59720",
   "metadata": {},
   "outputs": [],
   "source": [
    "driver = webdriver.Chrome(r'C:\\Users\\Jitender\\Downloads\\chromedriver_win32\\chromedriver.exe')"
   ]
  },
  {
   "cell_type": "code",
   "execution_count": 208,
   "id": "4bfd5b15",
   "metadata": {},
   "outputs": [],
   "source": [
    "url = 'https://www.naukri.com/'\n",
    "driver.get(url)"
   ]
  },
  {
   "cell_type": "code",
   "execution_count": 209,
   "id": "1a17ee05",
   "metadata": {},
   "outputs": [
    {
     "data": {
      "text/plain": [
       "<selenium.webdriver.remote.webelement.WebElement (session=\"6dda993ebeb428416db7b54513bfce2b\", element=\"ed219b36-a922-4490-bfbf-ea171dc73fb7\")>"
      ]
     },
     "execution_count": 209,
     "metadata": {},
     "output_type": "execute_result"
    }
   ],
   "source": [
    "searche_job = driver.find_element_by_class_name(\"suggestor-input\")\n",
    "searche_job"
   ]
  },
  {
   "cell_type": "code",
   "execution_count": 210,
   "id": "2899f9ad",
   "metadata": {},
   "outputs": [],
   "source": [
    "searche_job.send_keys(\"Data Analyst\")"
   ]
  },
  {
   "cell_type": "code",
   "execution_count": 211,
   "id": "340647f5",
   "metadata": {},
   "outputs": [
    {
     "data": {
      "text/plain": [
       "<selenium.webdriver.remote.webelement.WebElement (session=\"6dda993ebeb428416db7b54513bfce2b\", element=\"a003a475-b732-4aaa-8d8e-e96b7725dc63\")>"
      ]
     },
     "execution_count": 211,
     "metadata": {},
     "output_type": "execute_result"
    }
   ],
   "source": [
    "searche_locn = driver.find_element_by_xpath('/html/body/div/div[2]/div[3]/div/div/div[3]/div/div/div/input')\n",
    "searche_locn"
   ]
  },
  {
   "cell_type": "code",
   "execution_count": 212,
   "id": "15b754b0",
   "metadata": {},
   "outputs": [],
   "source": [
    "searche_locn.send_keys(\"Bangalore\")"
   ]
  },
  {
   "cell_type": "code",
   "execution_count": 213,
   "id": "2f9bedfc",
   "metadata": {},
   "outputs": [
    {
     "data": {
      "text/plain": [
       "<selenium.webdriver.remote.webelement.WebElement (session=\"6dda993ebeb428416db7b54513bfce2b\", element=\"334e2bfd-479b-4578-8133-0a7261cbc3ce\")>"
      ]
     },
     "execution_count": 213,
     "metadata": {},
     "output_type": "execute_result"
    }
   ],
   "source": [
    "searche_btn = driver.find_element_by_xpath('/html/body/div/div[2]/div[3]/div/div/div[6]')\n",
    "searche_btn"
   ]
  },
  {
   "cell_type": "code",
   "execution_count": 214,
   "id": "1f926e28",
   "metadata": {},
   "outputs": [],
   "source": [
    "searche_btn.click()"
   ]
  },
  {
   "cell_type": "code",
   "execution_count": 215,
   "id": "afaec685",
   "metadata": {},
   "outputs": [
    {
     "data": {
      "text/plain": [
       "20"
      ]
     },
     "execution_count": 215,
     "metadata": {},
     "output_type": "execute_result"
    }
   ],
   "source": [
    "title_tags = driver.find_elements_by_xpath('//a[@class=\"title fw500 ellipsis\"]')\n",
    "len(title_tags)"
   ]
  },
  {
   "cell_type": "code",
   "execution_count": 216,
   "id": "fb4a2495",
   "metadata": {},
   "outputs": [
    {
     "data": {
      "text/plain": [
       "20"
      ]
     },
     "execution_count": 216,
     "metadata": {},
     "output_type": "execute_result"
    }
   ],
   "source": [
    "job_titles = []\n",
    "\n",
    "for i in title_tags:\n",
    "    job_titles.append(i.text)\n",
    "len(job_titles)"
   ]
  },
  {
   "cell_type": "code",
   "execution_count": 217,
   "id": "af86e42d",
   "metadata": {},
   "outputs": [
    {
     "data": {
      "text/plain": [
       "['QA Data Analyst',\n",
       " 'Senior Data Analyst',\n",
       " 'Data Analyst',\n",
       " 'Data Analyst',\n",
       " 'Senior Data Analyst - Data Modeling/Database Design',\n",
       " 'Data analyst',\n",
       " 'Data Analyst',\n",
       " 'Financial Data Analyst',\n",
       " 'Data Analyst',\n",
       " 'OYO Rooms - Data Analyst / Business Analyst',\n",
       " 'Senior Data Analyst',\n",
       " 'Senior Data Analyst',\n",
       " 'Senior Data Analyst - Collibra',\n",
       " 'Data Analyst - Python/SQL',\n",
       " 'Data Analyst - IT',\n",
       " 'Staff Data Analyst (MINT)',\n",
       " 'Financial Data Analyst',\n",
       " 'Data Analyst',\n",
       " 'Marketing Data Analyst',\n",
       " 'Reference Data Analyst']"
      ]
     },
     "execution_count": 217,
     "metadata": {},
     "output_type": "execute_result"
    }
   ],
   "source": [
    "job_titles"
   ]
  },
  {
   "cell_type": "code",
   "execution_count": 218,
   "id": "cafdf813",
   "metadata": {},
   "outputs": [
    {
     "data": {
      "text/plain": [
       "20"
      ]
     },
     "execution_count": 218,
     "metadata": {},
     "output_type": "execute_result"
    }
   ],
   "source": [
    "company_title = driver.find_elements_by_xpath('//a[@class=\"subTitle ellipsis fleft\"]')\n",
    "len(company_title)"
   ]
  },
  {
   "cell_type": "code",
   "execution_count": 219,
   "id": "5d0b7c0f",
   "metadata": {},
   "outputs": [
    {
     "data": {
      "text/plain": [
       "20"
      ]
     },
     "execution_count": 219,
     "metadata": {},
     "output_type": "execute_result"
    }
   ],
   "source": [
    "company_name = []\n",
    "\n",
    "for i in company_title:\n",
    "    company_name.append(i.text)\n",
    "len(company_name)"
   ]
  },
  {
   "cell_type": "code",
   "execution_count": 220,
   "id": "b1033d86",
   "metadata": {},
   "outputs": [
    {
     "data": {
      "text/plain": [
       "['Ralph Lauren',\n",
       " 'Flipkart',\n",
       " 'Ericsson Global Services',\n",
       " 'Flipkart',\n",
       " 'K & R Enterprises',\n",
       " 'GSK India',\n",
       " 'GSK India',\n",
       " \"Moody's\",\n",
       " 'Aldius Consulting Services Pvt Ltd (Paramantra)',\n",
       " 'OyoRooms',\n",
       " 'Liventus',\n",
       " 'Cerner',\n",
       " 'Shell',\n",
       " 'Affine',\n",
       " 'Yespired',\n",
       " 'Walmart',\n",
       " \"Moody's\",\n",
       " 'Slice',\n",
       " 'Branch Metrics',\n",
       " 'Deutsche Bank']"
      ]
     },
     "execution_count": 220,
     "metadata": {},
     "output_type": "execute_result"
    }
   ],
   "source": [
    "company_name"
   ]
  },
  {
   "cell_type": "code",
   "execution_count": 221,
   "id": "b9c9bda3",
   "metadata": {},
   "outputs": [
    {
     "data": {
      "text/plain": [
       "20"
      ]
     },
     "execution_count": 221,
     "metadata": {},
     "output_type": "execute_result"
    }
   ],
   "source": [
    "exp_tags = driver.find_elements_by_xpath('//span[contains(@title,\" Yrs \")]')\n",
    "len(exp_tags)"
   ]
  },
  {
   "cell_type": "code",
   "execution_count": 222,
   "id": "71144bce",
   "metadata": {},
   "outputs": [
    {
     "data": {
      "text/plain": [
       "20"
      ]
     },
     "execution_count": 222,
     "metadata": {},
     "output_type": "execute_result"
    }
   ],
   "source": [
    "experience = []\n",
    "\n",
    "for i in exp_tags:\n",
    "    experience.append(i.text)\n",
    "len(experience)"
   ]
  },
  {
   "cell_type": "code",
   "execution_count": 223,
   "id": "dc4653f3",
   "metadata": {},
   "outputs": [
    {
     "data": {
      "text/plain": [
       "['0-3 Yrs',\n",
       " '4-6 Yrs',\n",
       " '10-20 Yrs',\n",
       " '1-6 Yrs',\n",
       " '4-6 Yrs',\n",
       " '5-9 Yrs',\n",
       " '7-10 Yrs',\n",
       " '0-2 Yrs',\n",
       " '0-2 Yrs',\n",
       " '2-6 Yrs',\n",
       " '5-8 Yrs',\n",
       " '2-5 Yrs',\n",
       " '8-12 Yrs',\n",
       " '3-5 Yrs',\n",
       " '3-8 Yrs',\n",
       " '3-7 Yrs',\n",
       " '1-3 Yrs',\n",
       " '1-5 Yrs',\n",
       " '2-5 Yrs',\n",
       " '2-5 Yrs']"
      ]
     },
     "execution_count": 223,
     "metadata": {},
     "output_type": "execute_result"
    }
   ],
   "source": [
    "experience"
   ]
  },
  {
   "cell_type": "code",
   "execution_count": 224,
   "id": "30ddc254",
   "metadata": {},
   "outputs": [
    {
     "data": {
      "text/plain": [
       "20"
      ]
     },
     "execution_count": 224,
     "metadata": {},
     "output_type": "execute_result"
    }
   ],
   "source": [
    "salary_tag = driver.find_elements_by_xpath('//li[@class=\"fleft grey-text br2 placeHolderLi salary\"]')\n",
    "len(salary_tag)"
   ]
  },
  {
   "cell_type": "code",
   "execution_count": 225,
   "id": "e8971c77",
   "metadata": {},
   "outputs": [
    {
     "data": {
      "text/plain": [
       "20"
      ]
     },
     "execution_count": 225,
     "metadata": {},
     "output_type": "execute_result"
    }
   ],
   "source": [
    "salary = []\n",
    "\n",
    "for i in salary_tag:\n",
    "    salary.append(i.text)\n",
    "len(salary)"
   ]
  },
  {
   "cell_type": "code",
   "execution_count": 226,
   "id": "b4f25ec7",
   "metadata": {},
   "outputs": [
    {
     "data": {
      "text/plain": [
       "['Not disclosed',\n",
       " 'Not disclosed',\n",
       " 'Not disclosed',\n",
       " 'Not disclosed',\n",
       " 'Not disclosed',\n",
       " 'Not disclosed',\n",
       " 'Not disclosed',\n",
       " 'Not disclosed',\n",
       " '2,00,000 - 3,50,000 PA.',\n",
       " 'Not disclosed',\n",
       " '10,00,000 - 20,00,000 PA.',\n",
       " 'Not disclosed',\n",
       " 'Not disclosed',\n",
       " 'Not disclosed',\n",
       " 'Not disclosed',\n",
       " 'Not disclosed',\n",
       " 'Not disclosed',\n",
       " 'Not disclosed',\n",
       " 'Not disclosed',\n",
       " 'Not disclosed']"
      ]
     },
     "execution_count": 226,
     "metadata": {},
     "output_type": "execute_result"
    }
   ],
   "source": [
    "salary"
   ]
  },
  {
   "cell_type": "code",
   "execution_count": 227,
   "id": "b38f19e5",
   "metadata": {},
   "outputs": [
    {
     "data": {
      "text/plain": [
       "20"
      ]
     },
     "execution_count": 227,
     "metadata": {},
     "output_type": "execute_result"
    }
   ],
   "source": [
    "location_tag = driver.find_elements_by_xpath('//li[@class=\"fleft grey-text br2 placeHolderLi location\"]')\n",
    "len(location_tag)"
   ]
  },
  {
   "cell_type": "code",
   "execution_count": 228,
   "id": "f2467d49",
   "metadata": {},
   "outputs": [
    {
     "data": {
      "text/plain": [
       "20"
      ]
     },
     "execution_count": 228,
     "metadata": {},
     "output_type": "execute_result"
    }
   ],
   "source": [
    "location = []\n",
    "\n",
    "for i in location_tag:\n",
    "    location.append(i.text)\n",
    "len(location)"
   ]
  },
  {
   "cell_type": "code",
   "execution_count": 229,
   "id": "f56d9c67",
   "metadata": {},
   "outputs": [
    {
     "data": {
      "text/plain": [
       "['Bangalore/Bengaluru',\n",
       " 'Bangalore/Bengaluru',\n",
       " 'Bangalore/Bengaluru',\n",
       " 'Bangalore/Bengaluru',\n",
       " 'Bangalore/Bengaluru',\n",
       " 'Bangalore/Bengaluru',\n",
       " 'Bangalore/Bengaluru',\n",
       " 'Bangalore/Bengaluru',\n",
       " 'Bangalore/Bengaluru',\n",
       " 'Bangalore/Bengaluru, Delhi / NCR, Mumbai (All Areas)',\n",
       " 'Remote',\n",
       " 'Bangalore/Bengaluru',\n",
       " 'Bangalore/Bengaluru',\n",
       " 'Bangalore/Bengaluru',\n",
       " 'Bangalore/Bengaluru',\n",
       " 'Bangalore/Bengaluru',\n",
       " 'Bangalore/Bengaluru',\n",
       " 'Bangalore/Bengaluru',\n",
       " 'Bangalore/Bengaluru',\n",
       " 'Bangalore/Bengaluru']"
      ]
     },
     "execution_count": 229,
     "metadata": {},
     "output_type": "execute_result"
    }
   ],
   "source": [
    "location"
   ]
  },
  {
   "cell_type": "code",
   "execution_count": 230,
   "id": "a223e761",
   "metadata": {},
   "outputs": [],
   "source": [
    "jobs = pd.DataFrame()\n",
    "jobs['Job Titles'] = job_titles\n",
    "jobs['Company'] = company_name\n",
    "jobs['Experience'] = experience\n",
    "jobs['Location'] = location"
   ]
  },
  {
   "cell_type": "code",
   "execution_count": 231,
   "id": "ceca7e71",
   "metadata": {},
   "outputs": [
    {
     "data": {
      "text/html": [
       "<div>\n",
       "<style scoped>\n",
       "    .dataframe tbody tr th:only-of-type {\n",
       "        vertical-align: middle;\n",
       "    }\n",
       "\n",
       "    .dataframe tbody tr th {\n",
       "        vertical-align: top;\n",
       "    }\n",
       "\n",
       "    .dataframe thead th {\n",
       "        text-align: right;\n",
       "    }\n",
       "</style>\n",
       "<table border=\"1\" class=\"dataframe\">\n",
       "  <thead>\n",
       "    <tr style=\"text-align: right;\">\n",
       "      <th></th>\n",
       "      <th>Job Titles</th>\n",
       "      <th>Company</th>\n",
       "      <th>Experience</th>\n",
       "      <th>Location</th>\n",
       "    </tr>\n",
       "  </thead>\n",
       "  <tbody>\n",
       "    <tr>\n",
       "      <th>0</th>\n",
       "      <td>QA Data Analyst</td>\n",
       "      <td>Ralph Lauren</td>\n",
       "      <td>0-3 Yrs</td>\n",
       "      <td>Bangalore/Bengaluru</td>\n",
       "    </tr>\n",
       "    <tr>\n",
       "      <th>1</th>\n",
       "      <td>Senior Data Analyst</td>\n",
       "      <td>Flipkart</td>\n",
       "      <td>4-6 Yrs</td>\n",
       "      <td>Bangalore/Bengaluru</td>\n",
       "    </tr>\n",
       "    <tr>\n",
       "      <th>2</th>\n",
       "      <td>Data Analyst</td>\n",
       "      <td>Ericsson Global Services</td>\n",
       "      <td>10-20 Yrs</td>\n",
       "      <td>Bangalore/Bengaluru</td>\n",
       "    </tr>\n",
       "    <tr>\n",
       "      <th>3</th>\n",
       "      <td>Data Analyst</td>\n",
       "      <td>Flipkart</td>\n",
       "      <td>1-6 Yrs</td>\n",
       "      <td>Bangalore/Bengaluru</td>\n",
       "    </tr>\n",
       "    <tr>\n",
       "      <th>4</th>\n",
       "      <td>Senior Data Analyst - Data Modeling/Database D...</td>\n",
       "      <td>K &amp; R Enterprises</td>\n",
       "      <td>4-6 Yrs</td>\n",
       "      <td>Bangalore/Bengaluru</td>\n",
       "    </tr>\n",
       "    <tr>\n",
       "      <th>5</th>\n",
       "      <td>Data analyst</td>\n",
       "      <td>GSK India</td>\n",
       "      <td>5-9 Yrs</td>\n",
       "      <td>Bangalore/Bengaluru</td>\n",
       "    </tr>\n",
       "    <tr>\n",
       "      <th>6</th>\n",
       "      <td>Data Analyst</td>\n",
       "      <td>GSK India</td>\n",
       "      <td>7-10 Yrs</td>\n",
       "      <td>Bangalore/Bengaluru</td>\n",
       "    </tr>\n",
       "    <tr>\n",
       "      <th>7</th>\n",
       "      <td>Financial Data Analyst</td>\n",
       "      <td>Moody's</td>\n",
       "      <td>0-2 Yrs</td>\n",
       "      <td>Bangalore/Bengaluru</td>\n",
       "    </tr>\n",
       "    <tr>\n",
       "      <th>8</th>\n",
       "      <td>Data Analyst</td>\n",
       "      <td>Aldius Consulting Services Pvt Ltd (Paramantra)</td>\n",
       "      <td>0-2 Yrs</td>\n",
       "      <td>Bangalore/Bengaluru</td>\n",
       "    </tr>\n",
       "    <tr>\n",
       "      <th>9</th>\n",
       "      <td>OYO Rooms - Data Analyst / Business Analyst</td>\n",
       "      <td>OyoRooms</td>\n",
       "      <td>2-6 Yrs</td>\n",
       "      <td>Bangalore/Bengaluru, Delhi / NCR, Mumbai (All ...</td>\n",
       "    </tr>\n",
       "  </tbody>\n",
       "</table>\n",
       "</div>"
      ],
      "text/plain": [
       "                                          Job Titles  \\\n",
       "0                                    QA Data Analyst   \n",
       "1                                Senior Data Analyst   \n",
       "2                                       Data Analyst   \n",
       "3                                       Data Analyst   \n",
       "4  Senior Data Analyst - Data Modeling/Database D...   \n",
       "5                                       Data analyst   \n",
       "6                                       Data Analyst   \n",
       "7                             Financial Data Analyst   \n",
       "8                                       Data Analyst   \n",
       "9        OYO Rooms - Data Analyst / Business Analyst   \n",
       "\n",
       "                                           Company Experience  \\\n",
       "0                                     Ralph Lauren    0-3 Yrs   \n",
       "1                                         Flipkart    4-6 Yrs   \n",
       "2                         Ericsson Global Services  10-20 Yrs   \n",
       "3                                         Flipkart    1-6 Yrs   \n",
       "4                                K & R Enterprises    4-6 Yrs   \n",
       "5                                        GSK India    5-9 Yrs   \n",
       "6                                        GSK India   7-10 Yrs   \n",
       "7                                          Moody's    0-2 Yrs   \n",
       "8  Aldius Consulting Services Pvt Ltd (Paramantra)    0-2 Yrs   \n",
       "9                                         OyoRooms    2-6 Yrs   \n",
       "\n",
       "                                            Location  \n",
       "0                                Bangalore/Bengaluru  \n",
       "1                                Bangalore/Bengaluru  \n",
       "2                                Bangalore/Bengaluru  \n",
       "3                                Bangalore/Bengaluru  \n",
       "4                                Bangalore/Bengaluru  \n",
       "5                                Bangalore/Bengaluru  \n",
       "6                                Bangalore/Bengaluru  \n",
       "7                                Bangalore/Bengaluru  \n",
       "8                                Bangalore/Bengaluru  \n",
       "9  Bangalore/Bengaluru, Delhi / NCR, Mumbai (All ...  "
      ]
     },
     "execution_count": 231,
     "metadata": {},
     "output_type": "execute_result"
    }
   ],
   "source": [
    "jobs[:10]"
   ]
  },
  {
   "cell_type": "code",
   "execution_count": 232,
   "id": "65a3245f",
   "metadata": {},
   "outputs": [],
   "source": [
    "driver = webdriver.Chrome(r'C:\\Users\\Jitender\\Downloads\\chromedriver_win32\\chromedriver.exe')"
   ]
  },
  {
   "cell_type": "code",
   "execution_count": 233,
   "id": "8c74c56a",
   "metadata": {},
   "outputs": [],
   "source": [
    "url = 'http://www.naukri.com/'\n",
    "driver.get(url)"
   ]
  },
  {
   "cell_type": "code",
   "execution_count": 234,
   "id": "e7783467",
   "metadata": {},
   "outputs": [
    {
     "data": {
      "text/plain": [
       "<selenium.webdriver.remote.webelement.WebElement (session=\"2ab9602d528b4d8ce74b535389286af1\", element=\"52640dd2-1b09-4309-967a-fb7162bdec24\")>"
      ]
     },
     "execution_count": 234,
     "metadata": {},
     "output_type": "execute_result"
    }
   ],
   "source": [
    "searche_job = driver.find_element_by_xpath('/html/body/div/div[2]/div[3]/div/div/div[1]/div/div/div/input')\n",
    "searche_job"
   ]
  },
  {
   "cell_type": "code",
   "execution_count": 235,
   "id": "36bab983",
   "metadata": {},
   "outputs": [],
   "source": [
    "searche_job.send_keys(\"“Data Scientist\")"
   ]
  },
  {
   "cell_type": "code",
   "execution_count": 236,
   "id": "02fb445c",
   "metadata": {},
   "outputs": [
    {
     "data": {
      "text/plain": [
       "<selenium.webdriver.remote.webelement.WebElement (session=\"2ab9602d528b4d8ce74b535389286af1\", element=\"6b897ff7-886b-4f7e-889e-9172ca9e9011\")>"
      ]
     },
     "execution_count": 236,
     "metadata": {},
     "output_type": "execute_result"
    }
   ],
   "source": [
    "searche_locn = driver.find_element_by_xpath('/html/body/div/div[2]/div[3]/div/div/div[3]/div/div/div/input')\n",
    "searche_locn"
   ]
  },
  {
   "cell_type": "code",
   "execution_count": 237,
   "id": "b3c50af7",
   "metadata": {},
   "outputs": [],
   "source": [
    "searche_locn.send_keys(\"Bangalore\")"
   ]
  },
  {
   "cell_type": "code",
   "execution_count": 238,
   "id": "6039806d",
   "metadata": {},
   "outputs": [
    {
     "data": {
      "text/plain": [
       "<selenium.webdriver.remote.webelement.WebElement (session=\"2ab9602d528b4d8ce74b535389286af1\", element=\"d5b4966a-4c93-4534-ac35-dd71acfdd72f\")>"
      ]
     },
     "execution_count": 238,
     "metadata": {},
     "output_type": "execute_result"
    }
   ],
   "source": [
    "searche_btn = driver.find_element_by_class_name('qsbSubmit')\n",
    "searche_btn"
   ]
  },
  {
   "cell_type": "code",
   "execution_count": 239,
   "id": "48462902",
   "metadata": {},
   "outputs": [],
   "source": [
    "searche_btn.click()"
   ]
  },
  {
   "cell_type": "code",
   "execution_count": 240,
   "id": "e17a56c4",
   "metadata": {},
   "outputs": [
    {
     "data": {
      "text/plain": [
       "20"
      ]
     },
     "execution_count": 240,
     "metadata": {},
     "output_type": "execute_result"
    }
   ],
   "source": [
    "title_tag = driver.find_elements_by_xpath('//a[@class=\"title fw500 ellipsis\"]')\n",
    "len(title_tag)"
   ]
  },
  {
   "cell_type": "code",
   "execution_count": 241,
   "id": "2a3d317a",
   "metadata": {},
   "outputs": [
    {
     "data": {
      "text/plain": [
       "20"
      ]
     },
     "execution_count": 241,
     "metadata": {},
     "output_type": "execute_result"
    }
   ],
   "source": [
    "job_title = []\n",
    "\n",
    "for i in title_tag:\n",
    "    job_title.append(i.text)\n",
    "len(job_title)"
   ]
  },
  {
   "cell_type": "code",
   "execution_count": 242,
   "id": "cca00536",
   "metadata": {},
   "outputs": [
    {
     "data": {
      "text/plain": [
       "['Global Tax Automation & Operations - Data Scientist Senior Analyst',\n",
       " 'Analyst / Data Scientist',\n",
       " 'Data Scientist: Advanced Analytics',\n",
       " 'Data Scientist: Advanced Analytics',\n",
       " 'Senior Data Scientist',\n",
       " 'Senior Data Scientist',\n",
       " 'Senior Data Scientist (Fintech)',\n",
       " 'Senior Data Scientist',\n",
       " 'Data Scientist - Lead / Architect - Looking For Early Joiners - Wipro',\n",
       " 'Data Scientist - Lead / Architect - Looking For Early Joiners - Wipro',\n",
       " 'Data Scientist - Lead / Architect - Looking For Early Joiners - Wipro',\n",
       " 'Data Scientist / Analyst',\n",
       " 'Lead Data Scientist - Machine Learning/ Data Mining',\n",
       " 'Data Scientist',\n",
       " 'Principal Data Scientist',\n",
       " 'Opportunity For Data Scientist Internship - Bengaluru',\n",
       " 'Louis Dreyfus Company Looking For Data Scientist',\n",
       " 'Wanted Data Scientists / Senior Data Scientists For our MNC client.',\n",
       " 'Data Scientist: Artificial Intelligence',\n",
       " 'Data Scientist: Artificial Intelligence']"
      ]
     },
     "execution_count": 242,
     "metadata": {},
     "output_type": "execute_result"
    }
   ],
   "source": [
    "job_title"
   ]
  },
  {
   "cell_type": "code",
   "execution_count": 243,
   "id": "f2e517cc",
   "metadata": {},
   "outputs": [
    {
     "data": {
      "text/plain": [
       "20"
      ]
     },
     "execution_count": 243,
     "metadata": {},
     "output_type": "execute_result"
    }
   ],
   "source": [
    "company_tag = driver.find_elements_by_xpath('//a[@class=\"subTitle ellipsis fleft\"]')\n",
    "len(location_tag)"
   ]
  },
  {
   "cell_type": "code",
   "execution_count": 244,
   "id": "bde03874",
   "metadata": {},
   "outputs": [
    {
     "data": {
      "text/plain": [
       "20"
      ]
     },
     "execution_count": 244,
     "metadata": {},
     "output_type": "execute_result"
    }
   ],
   "source": [
    "company = []\n",
    "\n",
    "for i in company_tag:\n",
    "    company.append(i.text)\n",
    "len(company)"
   ]
  },
  {
   "cell_type": "code",
   "execution_count": 245,
   "id": "e4d523fd",
   "metadata": {},
   "outputs": [
    {
     "data": {
      "text/plain": [
       "['Dell',\n",
       " 'MilliporeSigma',\n",
       " 'IBM',\n",
       " 'IBM',\n",
       " 'Siemens',\n",
       " 'Sabre',\n",
       " 'NIRA',\n",
       " 'Shell',\n",
       " 'Wipro',\n",
       " 'Wipro',\n",
       " 'Wipro',\n",
       " 'Talentify',\n",
       " 'Wrackle Technologies Pvt Ltd',\n",
       " 'NAVIKENZ INDIA PRIVATE LIMITED',\n",
       " 'Walmart',\n",
       " 'Corner Stone Solutions',\n",
       " 'Louis Dreyfus Commodities',\n",
       " 'Andre Consultancy Services Private Limited',\n",
       " 'IBM',\n",
       " 'IBM']"
      ]
     },
     "execution_count": 245,
     "metadata": {},
     "output_type": "execute_result"
    }
   ],
   "source": [
    "company"
   ]
  },
  {
   "cell_type": "code",
   "execution_count": 246,
   "id": "cd19d48c",
   "metadata": {},
   "outputs": [
    {
     "data": {
      "text/plain": [
       "20"
      ]
     },
     "execution_count": 246,
     "metadata": {},
     "output_type": "execute_result"
    }
   ],
   "source": [
    "location_tag = driver.find_elements_by_xpath('//li[@class=\"fleft grey-text br2 placeHolderLi location\"]')\n",
    "len(location_tag)"
   ]
  },
  {
   "cell_type": "code",
   "execution_count": 247,
   "id": "143a889e",
   "metadata": {},
   "outputs": [
    {
     "data": {
      "text/plain": [
       "20"
      ]
     },
     "execution_count": 247,
     "metadata": {},
     "output_type": "execute_result"
    }
   ],
   "source": [
    "location = []\n",
    "\n",
    "for i in location_tag:\n",
    "    location.append(i.text)\n",
    "len(location)"
   ]
  },
  {
   "cell_type": "code",
   "execution_count": 248,
   "id": "eaa457d8",
   "metadata": {},
   "outputs": [
    {
     "data": {
      "text/plain": [
       "['Bangalore/Bengaluru',\n",
       " 'Bangalore/Bengaluru',\n",
       " 'Bangalore/Bengaluru',\n",
       " 'Bangalore/Bengaluru',\n",
       " 'Bangalore/Bengaluru',\n",
       " 'Bangalore/Bengaluru',\n",
       " 'Bangalore/Bengaluru',\n",
       " 'Chennai, Bangalore/Bengaluru',\n",
       " 'Kochi/Cochin, Kolkata, Pune, Gurgaon/Gurugram, Chennai, Coimbatore, Bangalore/Bengaluru, Mumbai (All Areas), Hyderabad',\n",
       " 'Hyderabad/Secunderabad, Pune, Chennai, Bangalore/Bengaluru',\n",
       " 'Kochi/Cochin, Kolkata, Pune, Gurgaon/Gurugram, Chennai, Coimbatore, Bangalore/Bengaluru, Mumbai (All Areas), Hyderabad',\n",
       " 'Hyderabad/Secunderabad, Bangalore/Bengaluru, Delhi / NCR',\n",
       " 'Bangalore/Bengaluru',\n",
       " 'Hyderabad/Secunderabad, Bangalore/Bengaluru, Delhi / NCR\\n(WFH during Covid)',\n",
       " 'Bangalore/Bengaluru',\n",
       " 'Indore, Bangalore/Bengaluru\\n(WFH during Covid)',\n",
       " 'Bangalore/Bengaluru',\n",
       " 'Noida, Chennai, Bangalore/Bengaluru',\n",
       " 'Bangalore/Bengaluru',\n",
       " 'Bangalore/Bengaluru']"
      ]
     },
     "execution_count": 248,
     "metadata": {},
     "output_type": "execute_result"
    }
   ],
   "source": [
    "location"
   ]
  },
  {
   "cell_type": "code",
   "execution_count": 249,
   "id": "656a0a48",
   "metadata": {},
   "outputs": [],
   "source": [
    "jobs = pd.DataFrame()\n",
    "jobs['Company Name'] = company\n",
    "jobs['Job Titles'] = job_title\n",
    "jobs['Job Location'] = location"
   ]
  },
  {
   "cell_type": "code",
   "execution_count": 250,
   "id": "584f8e68",
   "metadata": {},
   "outputs": [
    {
     "data": {
      "text/html": [
       "<div>\n",
       "<style scoped>\n",
       "    .dataframe tbody tr th:only-of-type {\n",
       "        vertical-align: middle;\n",
       "    }\n",
       "\n",
       "    .dataframe tbody tr th {\n",
       "        vertical-align: top;\n",
       "    }\n",
       "\n",
       "    .dataframe thead th {\n",
       "        text-align: right;\n",
       "    }\n",
       "</style>\n",
       "<table border=\"1\" class=\"dataframe\">\n",
       "  <thead>\n",
       "    <tr style=\"text-align: right;\">\n",
       "      <th></th>\n",
       "      <th>Company Name</th>\n",
       "      <th>Job Titles</th>\n",
       "      <th>Job Location</th>\n",
       "    </tr>\n",
       "  </thead>\n",
       "  <tbody>\n",
       "    <tr>\n",
       "      <th>0</th>\n",
       "      <td>Dell</td>\n",
       "      <td>Global Tax Automation &amp; Operations - Data Scie...</td>\n",
       "      <td>Bangalore/Bengaluru</td>\n",
       "    </tr>\n",
       "    <tr>\n",
       "      <th>1</th>\n",
       "      <td>MilliporeSigma</td>\n",
       "      <td>Analyst / Data Scientist</td>\n",
       "      <td>Bangalore/Bengaluru</td>\n",
       "    </tr>\n",
       "    <tr>\n",
       "      <th>2</th>\n",
       "      <td>IBM</td>\n",
       "      <td>Data Scientist: Advanced Analytics</td>\n",
       "      <td>Bangalore/Bengaluru</td>\n",
       "    </tr>\n",
       "    <tr>\n",
       "      <th>3</th>\n",
       "      <td>IBM</td>\n",
       "      <td>Data Scientist: Advanced Analytics</td>\n",
       "      <td>Bangalore/Bengaluru</td>\n",
       "    </tr>\n",
       "    <tr>\n",
       "      <th>4</th>\n",
       "      <td>Siemens</td>\n",
       "      <td>Senior Data Scientist</td>\n",
       "      <td>Bangalore/Bengaluru</td>\n",
       "    </tr>\n",
       "    <tr>\n",
       "      <th>5</th>\n",
       "      <td>Sabre</td>\n",
       "      <td>Senior Data Scientist</td>\n",
       "      <td>Bangalore/Bengaluru</td>\n",
       "    </tr>\n",
       "    <tr>\n",
       "      <th>6</th>\n",
       "      <td>NIRA</td>\n",
       "      <td>Senior Data Scientist (Fintech)</td>\n",
       "      <td>Bangalore/Bengaluru</td>\n",
       "    </tr>\n",
       "    <tr>\n",
       "      <th>7</th>\n",
       "      <td>Shell</td>\n",
       "      <td>Senior Data Scientist</td>\n",
       "      <td>Chennai, Bangalore/Bengaluru</td>\n",
       "    </tr>\n",
       "    <tr>\n",
       "      <th>8</th>\n",
       "      <td>Wipro</td>\n",
       "      <td>Data Scientist - Lead / Architect - Looking Fo...</td>\n",
       "      <td>Kochi/Cochin, Kolkata, Pune, Gurgaon/Gurugram,...</td>\n",
       "    </tr>\n",
       "    <tr>\n",
       "      <th>9</th>\n",
       "      <td>Wipro</td>\n",
       "      <td>Data Scientist - Lead / Architect - Looking Fo...</td>\n",
       "      <td>Hyderabad/Secunderabad, Pune, Chennai, Bangalo...</td>\n",
       "    </tr>\n",
       "  </tbody>\n",
       "</table>\n",
       "</div>"
      ],
      "text/plain": [
       "     Company Name                                         Job Titles  \\\n",
       "0            Dell  Global Tax Automation & Operations - Data Scie...   \n",
       "1  MilliporeSigma                           Analyst / Data Scientist   \n",
       "2             IBM                 Data Scientist: Advanced Analytics   \n",
       "3             IBM                 Data Scientist: Advanced Analytics   \n",
       "4         Siemens                              Senior Data Scientist   \n",
       "5           Sabre                              Senior Data Scientist   \n",
       "6            NIRA                    Senior Data Scientist (Fintech)   \n",
       "7           Shell                              Senior Data Scientist   \n",
       "8           Wipro  Data Scientist - Lead / Architect - Looking Fo...   \n",
       "9           Wipro  Data Scientist - Lead / Architect - Looking Fo...   \n",
       "\n",
       "                                        Job Location  \n",
       "0                                Bangalore/Bengaluru  \n",
       "1                                Bangalore/Bengaluru  \n",
       "2                                Bangalore/Bengaluru  \n",
       "3                                Bangalore/Bengaluru  \n",
       "4                                Bangalore/Bengaluru  \n",
       "5                                Bangalore/Bengaluru  \n",
       "6                                Bangalore/Bengaluru  \n",
       "7                       Chennai, Bangalore/Bengaluru  \n",
       "8  Kochi/Cochin, Kolkata, Pune, Gurgaon/Gurugram,...  \n",
       "9  Hyderabad/Secunderabad, Pune, Chennai, Bangalo...  "
      ]
     },
     "execution_count": 250,
     "metadata": {},
     "output_type": "execute_result"
    }
   ],
   "source": [
    "jobs[:10]"
   ]
  },
  {
   "cell_type": "code",
   "execution_count": 261,
   "id": "cc73e0f5",
   "metadata": {},
   "outputs": [],
   "source": [
    "driver = webdriver.Chrome(r'C:\\Users\\Jitender\\Downloads\\chromedriver_win32\\chromedriver.exe')"
   ]
  },
  {
   "cell_type": "code",
   "execution_count": 262,
   "id": "2bfabfee",
   "metadata": {},
   "outputs": [],
   "source": [
    "url = 'http://www.naukri.com/'\n",
    "driver.get(url)"
   ]
  },
  {
   "cell_type": "code",
   "execution_count": 263,
   "id": "74ebc1ae",
   "metadata": {},
   "outputs": [],
   "source": [
    "searche_job = driver.find_element_by_class_name(\"suggestor-input\")"
   ]
  },
  {
   "cell_type": "code",
   "execution_count": 264,
   "id": "c9940ea9",
   "metadata": {},
   "outputs": [],
   "source": [
    "searche_job.send_keys(\"Data Scientist\")"
   ]
  },
  {
   "cell_type": "code",
   "execution_count": 265,
   "id": "7668eeea",
   "metadata": {},
   "outputs": [],
   "source": [
    "searche_btn = driver.find_element_by_class_name('qsbSubmit')"
   ]
  },
  {
   "cell_type": "code",
   "execution_count": 266,
   "id": "463526ce",
   "metadata": {},
   "outputs": [],
   "source": [
    "searche_btn.click()"
   ]
  },
  {
   "cell_type": "code",
   "execution_count": 267,
   "id": "f5cc1456",
   "metadata": {},
   "outputs": [],
   "source": [
    "filter_city = driver.find_element_by_xpath('/html/body/div[1]/div[3]/div[2]/section[1]/div[2]/div[3]/div[2]/div[3]/label/p')"
   ]
  },
  {
   "cell_type": "code",
   "execution_count": 268,
   "id": "4b9f7a12",
   "metadata": {},
   "outputs": [],
   "source": [
    "filter_city.click()"
   ]
  },
  {
   "cell_type": "code",
   "execution_count": 271,
   "id": "d5b979a9",
   "metadata": {
    "scrolled": true
   },
   "outputs": [],
   "source": [
    "filter_price = driver.find_element_by_xpath('/html/body/div[1]/div[3]/div[2]/section[1]/div[2]/div[4]/div[2]/div[2]/label/p')"
   ]
  },
  {
   "cell_type": "code",
   "execution_count": 272,
   "id": "0711515e",
   "metadata": {},
   "outputs": [],
   "source": [
    "filter_price.click()"
   ]
  },
  {
   "cell_type": "code",
   "execution_count": 275,
   "id": "247cf081",
   "metadata": {},
   "outputs": [
    {
     "data": {
      "text/plain": [
       "20"
      ]
     },
     "execution_count": 275,
     "metadata": {},
     "output_type": "execute_result"
    }
   ],
   "source": [
    "job_tag = driver.find_elements_by_xpath('//a[@class=\"title fw500 ellipsis\"]')\n",
    "len(job_tag)"
   ]
  },
  {
   "cell_type": "code",
   "execution_count": 276,
   "id": "2c81fd8b",
   "metadata": {},
   "outputs": [
    {
     "data": {
      "text/plain": [
       "20"
      ]
     },
     "execution_count": 276,
     "metadata": {},
     "output_type": "execute_result"
    }
   ],
   "source": [
    "job_name = []\n",
    "\n",
    "for i in job_tag:\n",
    "    job_name.append(i.text)\n",
    "len(job_name)"
   ]
  },
  {
   "cell_type": "code",
   "execution_count": 277,
   "id": "d72c4997",
   "metadata": {},
   "outputs": [
    {
     "data": {
      "text/plain": [
       "['Data Scientist',\n",
       " 'Data Scientist | A Fintech Organisation',\n",
       " 'Data Scientist-Onsite and offshore',\n",
       " 'Data Scientist (freelance)',\n",
       " 'Data Scientist',\n",
       " 'Data Scientist',\n",
       " 'Data Scientist',\n",
       " 'Data & Applied Scientist',\n",
       " 'Data and applied Scientist',\n",
       " 'Urgent Requirement || Data Scientist || Noida',\n",
       " 'Data Analyst / Data Scientist / Business Analytics / Fresher - MNC',\n",
       " 'Data Scientist II',\n",
       " 'Data Scientist',\n",
       " 'Data Scientist',\n",
       " 'Opening For Data Scientist',\n",
       " 'Data Scientist',\n",
       " 'Senior Data Scientist',\n",
       " 'Lead Data Scientist - KYC/Fraud/Marketing',\n",
       " 'Data Scientist',\n",
       " 'Data Scientist']"
      ]
     },
     "execution_count": 277,
     "metadata": {},
     "output_type": "execute_result"
    }
   ],
   "source": [
    "job_name"
   ]
  },
  {
   "cell_type": "code",
   "execution_count": 278,
   "id": "9c321c0b",
   "metadata": {},
   "outputs": [
    {
     "data": {
      "text/plain": [
       "20"
      ]
     },
     "execution_count": 278,
     "metadata": {},
     "output_type": "execute_result"
    }
   ],
   "source": [
    "com_tag = driver.find_elements_by_xpath('//a[@class=\"subTitle ellipsis fleft\"]')\n",
    "len(loc_tag)"
   ]
  },
  {
   "cell_type": "code",
   "execution_count": 279,
   "id": "3d803d65",
   "metadata": {},
   "outputs": [
    {
     "data": {
      "text/plain": [
       "20"
      ]
     },
     "execution_count": 279,
     "metadata": {},
     "output_type": "execute_result"
    }
   ],
   "source": [
    "company = []\n",
    "\n",
    "for i in com_tag:\n",
    "    company.append(i.text)\n",
    "len(company)"
   ]
  },
  {
   "cell_type": "code",
   "execution_count": 280,
   "id": "2b663a27",
   "metadata": {},
   "outputs": [
    {
     "data": {
      "text/plain": [
       "['NAVIKENZ INDIA PRIVATE LIMITED',\n",
       " 'Vision Beyond Resources India Private Limited',\n",
       " 'PROKXIMITY',\n",
       " '2Coms',\n",
       " 'CHANGE LEADERS CONSULTING',\n",
       " 'DECISION POINT PRIVATE LIMITED',\n",
       " 'Alp Consulting Limited',\n",
       " 'Microsoft',\n",
       " 'Microsoft',\n",
       " 'HCL',\n",
       " 'GABA Consultancy services',\n",
       " 'Chegg',\n",
       " 'Boston Consulting Group',\n",
       " 'Cloudstrats Technologies Private Limited',\n",
       " 'Care Health Insurance',\n",
       " 'Stefanini',\n",
       " 'iNICU',\n",
       " 'Tide Software',\n",
       " 'BlackBuck',\n",
       " 'Country Veggie']"
      ]
     },
     "execution_count": 280,
     "metadata": {},
     "output_type": "execute_result"
    }
   ],
   "source": [
    "company"
   ]
  },
  {
   "cell_type": "code",
   "execution_count": 281,
   "id": "d5ec474d",
   "metadata": {},
   "outputs": [
    {
     "data": {
      "text/plain": [
       "20"
      ]
     },
     "execution_count": 281,
     "metadata": {},
     "output_type": "execute_result"
    }
   ],
   "source": [
    "loc_tag = driver.find_elements_by_xpath('//li[@class=\"fleft grey-text br2 placeHolderLi location\"]')\n",
    "len(loc_tag) "
   ]
  },
  {
   "cell_type": "code",
   "execution_count": 282,
   "id": "09c81a94",
   "metadata": {},
   "outputs": [
    {
     "data": {
      "text/plain": [
       "20"
      ]
     },
     "execution_count": 282,
     "metadata": {},
     "output_type": "execute_result"
    }
   ],
   "source": [
    "location = []\n",
    "\n",
    "for i in loc_tag:\n",
    "    location.append(i.text)\n",
    "len(location)"
   ]
  },
  {
   "cell_type": "code",
   "execution_count": 283,
   "id": "7a768c70",
   "metadata": {},
   "outputs": [
    {
     "data": {
      "text/plain": [
       "['Hyderabad/Secunderabad, Bangalore/Bengaluru, Delhi / NCR\\n(WFH during Covid)',\n",
       " 'Gurgaon/Gurugram',\n",
       " 'Hyderabad/Secunderabad, Pune, Chennai, Bangalore/Bengaluru, Delhi / NCR, Mumbai (All Areas)',\n",
       " 'New Delhi, Delhi',\n",
       " 'New Delhi',\n",
       " 'Gurgaon/Gurugram, Chennai\\n(WFH during Covid)',\n",
       " 'Kolkata, Hyderabad/Secunderabad, Pune, Chennai, Bangalore/Bengaluru, Delhi / NCR',\n",
       " 'Noida, Hyderabad/Secunderabad, Bangalore/Bengaluru',\n",
       " 'Noida, Hyderabad/Secunderabad, Bangalore/Bengaluru',\n",
       " 'Noida, Delhi / NCR',\n",
       " 'Noida, New Delhi, Delhi / NCR',\n",
       " 'Delhi / NCR',\n",
       " 'New Delhi',\n",
       " 'New Delhi, Delhi / NCR, Mumbai (All Areas)',\n",
       " 'Gurgaon/Gurugram',\n",
       " 'Noida',\n",
       " 'Delhi',\n",
       " 'New Delhi',\n",
       " 'Gurgaon, Bengaluru',\n",
       " 'Bharuch, Jaipur, Bhopal, Mumbai, Jhansi, Nagpur, Ghaziabad, Jaunpur, Kanpur, Delhi, Lucknow, Agra, Gurgaon, Rajkot, Bengaluru']"
      ]
     },
     "execution_count": 283,
     "metadata": {},
     "output_type": "execute_result"
    }
   ],
   "source": [
    "location"
   ]
  },
  {
   "cell_type": "code",
   "execution_count": 284,
   "id": "cd19c391",
   "metadata": {},
   "outputs": [
    {
     "data": {
      "text/plain": [
       "20"
      ]
     },
     "execution_count": 284,
     "metadata": {},
     "output_type": "execute_result"
    }
   ],
   "source": [
    "exp_tag = driver.find_elements_by_xpath('//span[contains(@title,\" Yrs \")]')\n",
    "len(exp_tag)"
   ]
  },
  {
   "cell_type": "code",
   "execution_count": 285,
   "id": "824db498",
   "metadata": {},
   "outputs": [
    {
     "data": {
      "text/plain": [
       "20"
      ]
     },
     "execution_count": 285,
     "metadata": {},
     "output_type": "execute_result"
    }
   ],
   "source": [
    "experience = []\n",
    "\n",
    "for i in exp_tag:\n",
    "    experience.append(i.text)\n",
    "len(experience)"
   ]
  },
  {
   "cell_type": "code",
   "execution_count": 286,
   "id": "56f63eda",
   "metadata": {},
   "outputs": [
    {
     "data": {
      "text/plain": [
       "['2-5 Yrs',\n",
       " '2-7 Yrs',\n",
       " '3-8 Yrs',\n",
       " '2-7 Yrs',\n",
       " '3-8 Yrs',\n",
       " '1-6 Yrs',\n",
       " '1-6 Yrs',\n",
       " '3-7 Yrs',\n",
       " '3-7 Yrs',\n",
       " '3-8 Yrs',\n",
       " '0-0 Yrs',\n",
       " '2-6 Yrs',\n",
       " '2-5 Yrs',\n",
       " '3-5 Yrs',\n",
       " '1-5 Yrs',\n",
       " '3-8 Yrs',\n",
       " '1-5 Yrs',\n",
       " '1-6 Yrs',\n",
       " '3-7 Yrs',\n",
       " '1-3 Yrs']"
      ]
     },
     "execution_count": 286,
     "metadata": {},
     "output_type": "execute_result"
    }
   ],
   "source": [
    "experience"
   ]
  },
  {
   "cell_type": "code",
   "execution_count": 287,
   "id": "69ce383f",
   "metadata": {},
   "outputs": [],
   "source": [
    "jobs = pd.DataFrame()\n",
    "jobs[\"Job Title\"] = job_name\n",
    "jobs[\"Company Name\"] = company\n",
    "jobs[\"Location\"] = location\n",
    "jobs[\"Experience\"] = experience"
   ]
  },
  {
   "cell_type": "code",
   "execution_count": 288,
   "id": "ae79cd76",
   "metadata": {},
   "outputs": [
    {
     "data": {
      "text/html": [
       "<div>\n",
       "<style scoped>\n",
       "    .dataframe tbody tr th:only-of-type {\n",
       "        vertical-align: middle;\n",
       "    }\n",
       "\n",
       "    .dataframe tbody tr th {\n",
       "        vertical-align: top;\n",
       "    }\n",
       "\n",
       "    .dataframe thead th {\n",
       "        text-align: right;\n",
       "    }\n",
       "</style>\n",
       "<table border=\"1\" class=\"dataframe\">\n",
       "  <thead>\n",
       "    <tr style=\"text-align: right;\">\n",
       "      <th></th>\n",
       "      <th>Job Title</th>\n",
       "      <th>Company Name</th>\n",
       "      <th>Location</th>\n",
       "      <th>Experience</th>\n",
       "    </tr>\n",
       "  </thead>\n",
       "  <tbody>\n",
       "    <tr>\n",
       "      <th>0</th>\n",
       "      <td>Data Scientist</td>\n",
       "      <td>NAVIKENZ INDIA PRIVATE LIMITED</td>\n",
       "      <td>Hyderabad/Secunderabad, Bangalore/Bengaluru, D...</td>\n",
       "      <td>2-5 Yrs</td>\n",
       "    </tr>\n",
       "    <tr>\n",
       "      <th>1</th>\n",
       "      <td>Data Scientist | A Fintech Organisation</td>\n",
       "      <td>Vision Beyond Resources India Private Limited</td>\n",
       "      <td>Gurgaon/Gurugram</td>\n",
       "      <td>2-7 Yrs</td>\n",
       "    </tr>\n",
       "    <tr>\n",
       "      <th>2</th>\n",
       "      <td>Data Scientist-Onsite and offshore</td>\n",
       "      <td>PROKXIMITY</td>\n",
       "      <td>Hyderabad/Secunderabad, Pune, Chennai, Bangalo...</td>\n",
       "      <td>3-8 Yrs</td>\n",
       "    </tr>\n",
       "    <tr>\n",
       "      <th>3</th>\n",
       "      <td>Data Scientist (freelance)</td>\n",
       "      <td>2Coms</td>\n",
       "      <td>New Delhi, Delhi</td>\n",
       "      <td>2-7 Yrs</td>\n",
       "    </tr>\n",
       "    <tr>\n",
       "      <th>4</th>\n",
       "      <td>Data Scientist</td>\n",
       "      <td>CHANGE LEADERS CONSULTING</td>\n",
       "      <td>New Delhi</td>\n",
       "      <td>3-8 Yrs</td>\n",
       "    </tr>\n",
       "    <tr>\n",
       "      <th>5</th>\n",
       "      <td>Data Scientist</td>\n",
       "      <td>DECISION POINT PRIVATE LIMITED</td>\n",
       "      <td>Gurgaon/Gurugram, Chennai\\n(WFH during Covid)</td>\n",
       "      <td>1-6 Yrs</td>\n",
       "    </tr>\n",
       "    <tr>\n",
       "      <th>6</th>\n",
       "      <td>Data Scientist</td>\n",
       "      <td>Alp Consulting Limited</td>\n",
       "      <td>Kolkata, Hyderabad/Secunderabad, Pune, Chennai...</td>\n",
       "      <td>1-6 Yrs</td>\n",
       "    </tr>\n",
       "    <tr>\n",
       "      <th>7</th>\n",
       "      <td>Data &amp; Applied Scientist</td>\n",
       "      <td>Microsoft</td>\n",
       "      <td>Noida, Hyderabad/Secunderabad, Bangalore/Benga...</td>\n",
       "      <td>3-7 Yrs</td>\n",
       "    </tr>\n",
       "    <tr>\n",
       "      <th>8</th>\n",
       "      <td>Data and applied Scientist</td>\n",
       "      <td>Microsoft</td>\n",
       "      <td>Noida, Hyderabad/Secunderabad, Bangalore/Benga...</td>\n",
       "      <td>3-7 Yrs</td>\n",
       "    </tr>\n",
       "    <tr>\n",
       "      <th>9</th>\n",
       "      <td>Urgent Requirement || Data Scientist || Noida</td>\n",
       "      <td>HCL</td>\n",
       "      <td>Noida, Delhi / NCR</td>\n",
       "      <td>3-8 Yrs</td>\n",
       "    </tr>\n",
       "  </tbody>\n",
       "</table>\n",
       "</div>"
      ],
      "text/plain": [
       "                                       Job Title  \\\n",
       "0                                 Data Scientist   \n",
       "1        Data Scientist | A Fintech Organisation   \n",
       "2             Data Scientist-Onsite and offshore   \n",
       "3                     Data Scientist (freelance)   \n",
       "4                                 Data Scientist   \n",
       "5                                 Data Scientist   \n",
       "6                                 Data Scientist   \n",
       "7                       Data & Applied Scientist   \n",
       "8                     Data and applied Scientist   \n",
       "9  Urgent Requirement || Data Scientist || Noida   \n",
       "\n",
       "                                    Company Name  \\\n",
       "0                 NAVIKENZ INDIA PRIVATE LIMITED   \n",
       "1  Vision Beyond Resources India Private Limited   \n",
       "2                                     PROKXIMITY   \n",
       "3                                          2Coms   \n",
       "4                      CHANGE LEADERS CONSULTING   \n",
       "5                 DECISION POINT PRIVATE LIMITED   \n",
       "6                         Alp Consulting Limited   \n",
       "7                                      Microsoft   \n",
       "8                                      Microsoft   \n",
       "9                                            HCL   \n",
       "\n",
       "                                            Location Experience  \n",
       "0  Hyderabad/Secunderabad, Bangalore/Bengaluru, D...    2-5 Yrs  \n",
       "1                                   Gurgaon/Gurugram    2-7 Yrs  \n",
       "2  Hyderabad/Secunderabad, Pune, Chennai, Bangalo...    3-8 Yrs  \n",
       "3                                   New Delhi, Delhi    2-7 Yrs  \n",
       "4                                          New Delhi    3-8 Yrs  \n",
       "5      Gurgaon/Gurugram, Chennai\\n(WFH during Covid)    1-6 Yrs  \n",
       "6  Kolkata, Hyderabad/Secunderabad, Pune, Chennai...    1-6 Yrs  \n",
       "7  Noida, Hyderabad/Secunderabad, Bangalore/Benga...    3-7 Yrs  \n",
       "8  Noida, Hyderabad/Secunderabad, Bangalore/Benga...    3-7 Yrs  \n",
       "9                                 Noida, Delhi / NCR    3-8 Yrs  "
      ]
     },
     "execution_count": 288,
     "metadata": {},
     "output_type": "execute_result"
    }
   ],
   "source": [
    "jobs[:10]"
   ]
  },
  {
   "cell_type": "code",
   "execution_count": 289,
   "id": "df273072",
   "metadata": {},
   "outputs": [],
   "source": [
    "driver = webdriver.Chrome(r'C:\\Users\\Jitender\\Downloads\\chromedriver_win32\\chromedriver.exe')"
   ]
  },
  {
   "cell_type": "code",
   "execution_count": 290,
   "id": "e93b94f7",
   "metadata": {},
   "outputs": [],
   "source": [
    "url = 'http://www.flipkart.com/'\n",
    "driver.get(url)"
   ]
  },
  {
   "cell_type": "code",
   "execution_count": 296,
   "id": "de0d0cda",
   "metadata": {},
   "outputs": [],
   "source": [
    "search_product = driver.find_element_by_xpath ('/html/body/div[1]/div/div[1]/div[1]/div[2]/div[2]/form/div/div/input')"
   ]
  },
  {
   "cell_type": "code",
   "execution_count": 297,
   "id": "58e2faff",
   "metadata": {},
   "outputs": [],
   "source": [
    "search_product.send_keys(\"sunglasses\")"
   ]
  },
  {
   "cell_type": "code",
   "execution_count": 298,
   "id": "3b1f8295",
   "metadata": {},
   "outputs": [],
   "source": [
    "searche_btn = driver.find_element_by_xpath('/html/body/div[1]/div/div[1]/div[1]/div[2]/div[2]/form/div/button')"
   ]
  },
  {
   "cell_type": "code",
   "execution_count": 299,
   "id": "7bfb9ed9",
   "metadata": {},
   "outputs": [],
   "source": [
    "searche_btn.click()"
   ]
  },
  {
   "cell_type": "code",
   "execution_count": 300,
   "id": "22eb2448",
   "metadata": {},
   "outputs": [
    {
     "data": {
      "text/plain": [
       "40"
      ]
     },
     "execution_count": 300,
     "metadata": {},
     "output_type": "execute_result"
    }
   ],
   "source": [
    "brand_tag1 = driver.find_elements_by_xpath('//div[@class=\"_2WkVRV\"]')\n",
    "len(brand_tag)"
   ]
  },
  {
   "cell_type": "code",
   "execution_count": 301,
   "id": "ddd49a37",
   "metadata": {},
   "outputs": [
    {
     "data": {
      "text/plain": [
       "40"
      ]
     },
     "execution_count": 301,
     "metadata": {},
     "output_type": "execute_result"
    }
   ],
   "source": [
    "brand1 = []\n",
    "\n",
    "for i in brand_tag1:\n",
    "    brand1.append(i.text)\n",
    "len(brand1)"
   ]
  },
  {
   "cell_type": "code",
   "execution_count": 302,
   "id": "b34834f7",
   "metadata": {},
   "outputs": [
    {
     "data": {
      "text/plain": [
       "['GANSTA',\n",
       " 'Elligator',\n",
       " 'GANSTA',\n",
       " 'Singco India',\n",
       " 'Fastrack',\n",
       " 'SRPM',\n",
       " 'SUNBEE',\n",
       " 'VINCENT CHASE',\n",
       " 'SHAAH COLLECTIONS',\n",
       " 'New Specs',\n",
       " 'PIRASO',\n",
       " 'ROYAL SON',\n",
       " 'SHAAH COLLECTIONS',\n",
       " 'kingsunglasses',\n",
       " 'agera',\n",
       " 'VINCENT CHASE',\n",
       " 'SUNBEE',\n",
       " 'Fastrack',\n",
       " 'Johaena',\n",
       " 'VINCENT CHASE',\n",
       " 'PHENOMENAL',\n",
       " 'maxa',\n",
       " 'PIRASO',\n",
       " 'ROYAL SON',\n",
       " 'PIRASO',\n",
       " 'ROZZETTA CRAFT',\n",
       " 'PHENOMENAL',\n",
       " 'ROYAL SON',\n",
       " 'Elligator',\n",
       " 'GANSTA',\n",
       " 'kingsunglasses',\n",
       " 'ROZZETTA CRAFT',\n",
       " 'Elligator',\n",
       " 'PHENOMENAL',\n",
       " 'Lee Topper',\n",
       " 'ROZZETTA CRAFT',\n",
       " 'New Specs',\n",
       " 'PHENOMENAL',\n",
       " 'New Specs',\n",
       " 'ROYAL SON']"
      ]
     },
     "execution_count": 302,
     "metadata": {},
     "output_type": "execute_result"
    }
   ],
   "source": [
    "brand1"
   ]
  },
  {
   "cell_type": "code",
   "execution_count": 303,
   "id": "0afa31ae",
   "metadata": {},
   "outputs": [],
   "source": [
    "page_change = driver.find_element_by_xpath('/html/body/div[1]/div/div[3]/div[1]/div[2]/div[12]/div/div/nav/a[2]')"
   ]
  },
  {
   "cell_type": "code",
   "execution_count": 304,
   "id": "d9cc032d",
   "metadata": {},
   "outputs": [],
   "source": [
    "page_change.click()"
   ]
  },
  {
   "cell_type": "code",
   "execution_count": 305,
   "id": "1c9cb1b0",
   "metadata": {},
   "outputs": [
    {
     "data": {
      "text/plain": [
       "40"
      ]
     },
     "execution_count": 305,
     "metadata": {},
     "output_type": "execute_result"
    }
   ],
   "source": [
    "brand_tag2 = driver.find_elements_by_xpath('//div[@class=\"_2WkVRV\"]')\n",
    "len(brand_tag2)"
   ]
  },
  {
   "cell_type": "code",
   "execution_count": 306,
   "id": "55cbb5c7",
   "metadata": {},
   "outputs": [
    {
     "data": {
      "text/plain": [
       "40"
      ]
     },
     "execution_count": 306,
     "metadata": {},
     "output_type": "execute_result"
    }
   ],
   "source": [
    "brand2 = []\n",
    "\n",
    "for i in brand_tag2:\n",
    "    brand2.append(i.text)\n",
    "len(brand2)"
   ]
  },
  {
   "cell_type": "code",
   "execution_count": 307,
   "id": "c57b3de1",
   "metadata": {},
   "outputs": [
    {
     "data": {
      "text/plain": [
       "['Elligator',\n",
       " 'SUNBEE',\n",
       " 'Elligator',\n",
       " 'ROZZETTA CRAFT',\n",
       " 'ROYAL SON',\n",
       " 'PIRASO',\n",
       " 'New Specs',\n",
       " 'FARENHEIT',\n",
       " 'Rich Club',\n",
       " 'Lee Topper',\n",
       " 'Rich Club',\n",
       " 'ROZZETTA CRAFT',\n",
       " 'SRPM',\n",
       " 'DEIXELS',\n",
       " 'kingsunglasses',\n",
       " 'ROYAL SON',\n",
       " 'Fastrack',\n",
       " 'GANSTA',\n",
       " 'PIRASO',\n",
       " 'Singco India',\n",
       " 'Elligator',\n",
       " 'Silver Kartz',\n",
       " 'kingsunglasses',\n",
       " 'VINCENT CHASE',\n",
       " 'hipe',\n",
       " 'kingsunglasses',\n",
       " 'kingsunglasses',\n",
       " 'VINCENT CHASE',\n",
       " 'Johaena',\n",
       " 'Lee Topper',\n",
       " 'Rich Club',\n",
       " 'AISLIN',\n",
       " 'PIRASO',\n",
       " 'Fastrack',\n",
       " 'ROYAL SON',\n",
       " 'ROZZETTA CRAFT',\n",
       " 'Singco India',\n",
       " 'ROZZETTA CRAFT',\n",
       " 'VILLAIN',\n",
       " 'AISLIN']"
      ]
     },
     "execution_count": 307,
     "metadata": {},
     "output_type": "execute_result"
    }
   ],
   "source": [
    "brand2"
   ]
  },
  {
   "cell_type": "code",
   "execution_count": 308,
   "id": "1bb270b2",
   "metadata": {},
   "outputs": [],
   "source": [
    "page_change = driver.find_element_by_xpath('/html/body/div[1]/div/div[3]/div[1]/div[2]/div[12]/div/div/nav/a[4]')"
   ]
  },
  {
   "cell_type": "code",
   "execution_count": 309,
   "id": "8b814f51",
   "metadata": {},
   "outputs": [],
   "source": [
    "page_change.click()"
   ]
  },
  {
   "cell_type": "code",
   "execution_count": 310,
   "id": "5b2bf3bf",
   "metadata": {},
   "outputs": [
    {
     "data": {
      "text/plain": [
       "40"
      ]
     },
     "execution_count": 310,
     "metadata": {},
     "output_type": "execute_result"
    }
   ],
   "source": [
    "brand_tag3 = driver.find_elements_by_xpath('//div[@class=\"_2WkVRV\"]')\n",
    "len(brand3)"
   ]
  },
  {
   "cell_type": "code",
   "execution_count": 311,
   "id": "440706df",
   "metadata": {},
   "outputs": [
    {
     "data": {
      "text/plain": [
       "40"
      ]
     },
     "execution_count": 311,
     "metadata": {},
     "output_type": "execute_result"
    }
   ],
   "source": [
    "brand3 = []\n",
    "\n",
    "for i in brand_tag3:\n",
    "    brand3.append(i.text)\n",
    "len(brand3)"
   ]
  },
  {
   "cell_type": "code",
   "execution_count": 312,
   "id": "d508f4dd",
   "metadata": {},
   "outputs": [
    {
     "data": {
      "text/plain": [
       "['ROZZETTA CRAFT',\n",
       " 'kingsunglasses',\n",
       " 'ROYAL SON',\n",
       " 'CRYSTAL CART',\n",
       " 'New Specs',\n",
       " 'Fastrack',\n",
       " 'Silver Kartz',\n",
       " 'ROYAL SON',\n",
       " 'GANSTA',\n",
       " 'Singco India',\n",
       " 'Elligator',\n",
       " 'FARENHEIT',\n",
       " 'kingsunglasses',\n",
       " 'New Specs',\n",
       " 'SRPM',\n",
       " 'AISLIN',\n",
       " 'GANSTA',\n",
       " 'Fastrack',\n",
       " 'Singco India',\n",
       " 'ROYAL SON',\n",
       " 'ROZZETTA CRAFT',\n",
       " 'PHENOMENAL',\n",
       " 'Fastrack',\n",
       " 'AISLIN',\n",
       " 'Badfella',\n",
       " 'GANSTA',\n",
       " 'WROGN',\n",
       " 'ROYAL SON',\n",
       " 'GANSTA',\n",
       " 'Singco India',\n",
       " 'kingsunglasses',\n",
       " 'ROYAL SON',\n",
       " 'AISLIN',\n",
       " 'kingsunglasses',\n",
       " 'GANSTA',\n",
       " 'Kanishka',\n",
       " 'Rich Club',\n",
       " 'PHENOMENAL',\n",
       " 'PIRASO',\n",
       " 'AISLIN']"
      ]
     },
     "execution_count": 312,
     "metadata": {},
     "output_type": "execute_result"
    }
   ],
   "source": [
    "brand3"
   ]
  },
  {
   "cell_type": "code",
   "execution_count": 313,
   "id": "fe3eb2ea",
   "metadata": {},
   "outputs": [],
   "source": [
    "brand = [brand1 + brand2 + brand3]"
   ]
  },
  {
   "cell_type": "code",
   "execution_count": 314,
   "id": "778e81a0",
   "metadata": {},
   "outputs": [
    {
     "data": {
      "text/plain": [
       "[['GANSTA',\n",
       "  'Elligator',\n",
       "  'GANSTA',\n",
       "  'Singco India',\n",
       "  'Fastrack',\n",
       "  'SRPM',\n",
       "  'SUNBEE',\n",
       "  'VINCENT CHASE',\n",
       "  'SHAAH COLLECTIONS',\n",
       "  'New Specs',\n",
       "  'PIRASO',\n",
       "  'ROYAL SON',\n",
       "  'SHAAH COLLECTIONS',\n",
       "  'kingsunglasses',\n",
       "  'agera',\n",
       "  'VINCENT CHASE',\n",
       "  'SUNBEE',\n",
       "  'Fastrack',\n",
       "  'Johaena',\n",
       "  'VINCENT CHASE',\n",
       "  'PHENOMENAL',\n",
       "  'maxa',\n",
       "  'PIRASO',\n",
       "  'ROYAL SON',\n",
       "  'PIRASO',\n",
       "  'ROZZETTA CRAFT',\n",
       "  'PHENOMENAL',\n",
       "  'ROYAL SON',\n",
       "  'Elligator',\n",
       "  'GANSTA',\n",
       "  'kingsunglasses',\n",
       "  'ROZZETTA CRAFT',\n",
       "  'Elligator',\n",
       "  'PHENOMENAL',\n",
       "  'Lee Topper',\n",
       "  'ROZZETTA CRAFT',\n",
       "  'New Specs',\n",
       "  'PHENOMENAL',\n",
       "  'New Specs',\n",
       "  'ROYAL SON',\n",
       "  'Elligator',\n",
       "  'SUNBEE',\n",
       "  'Elligator',\n",
       "  'ROZZETTA CRAFT',\n",
       "  'ROYAL SON',\n",
       "  'PIRASO',\n",
       "  'New Specs',\n",
       "  'FARENHEIT',\n",
       "  'Rich Club',\n",
       "  'Lee Topper',\n",
       "  'Rich Club',\n",
       "  'ROZZETTA CRAFT',\n",
       "  'SRPM',\n",
       "  'DEIXELS',\n",
       "  'kingsunglasses',\n",
       "  'ROYAL SON',\n",
       "  'Fastrack',\n",
       "  'GANSTA',\n",
       "  'PIRASO',\n",
       "  'Singco India',\n",
       "  'Elligator',\n",
       "  'Silver Kartz',\n",
       "  'kingsunglasses',\n",
       "  'VINCENT CHASE',\n",
       "  'hipe',\n",
       "  'kingsunglasses',\n",
       "  'kingsunglasses',\n",
       "  'VINCENT CHASE',\n",
       "  'Johaena',\n",
       "  'Lee Topper',\n",
       "  'Rich Club',\n",
       "  'AISLIN',\n",
       "  'PIRASO',\n",
       "  'Fastrack',\n",
       "  'ROYAL SON',\n",
       "  'ROZZETTA CRAFT',\n",
       "  'Singco India',\n",
       "  'ROZZETTA CRAFT',\n",
       "  'VILLAIN',\n",
       "  'AISLIN',\n",
       "  'ROZZETTA CRAFT',\n",
       "  'kingsunglasses',\n",
       "  'ROYAL SON',\n",
       "  'CRYSTAL CART',\n",
       "  'New Specs',\n",
       "  'Fastrack',\n",
       "  'Silver Kartz',\n",
       "  'ROYAL SON',\n",
       "  'GANSTA',\n",
       "  'Singco India',\n",
       "  'Elligator',\n",
       "  'FARENHEIT',\n",
       "  'kingsunglasses',\n",
       "  'New Specs',\n",
       "  'SRPM',\n",
       "  'AISLIN',\n",
       "  'GANSTA',\n",
       "  'Fastrack',\n",
       "  'Singco India',\n",
       "  'ROYAL SON',\n",
       "  'ROZZETTA CRAFT',\n",
       "  'PHENOMENAL',\n",
       "  'Fastrack',\n",
       "  'AISLIN',\n",
       "  'Badfella',\n",
       "  'GANSTA',\n",
       "  'WROGN',\n",
       "  'ROYAL SON',\n",
       "  'GANSTA',\n",
       "  'Singco India',\n",
       "  'kingsunglasses',\n",
       "  'ROYAL SON',\n",
       "  'AISLIN',\n",
       "  'kingsunglasses',\n",
       "  'GANSTA',\n",
       "  'Kanishka',\n",
       "  'Rich Club',\n",
       "  'PHENOMENAL',\n",
       "  'PIRASO',\n",
       "  'AISLIN']]"
      ]
     },
     "execution_count": 314,
     "metadata": {},
     "output_type": "execute_result"
    }
   ],
   "source": [
    "brand[:100]"
   ]
  },
  {
   "cell_type": "code",
   "execution_count": 317,
   "id": "619237fa",
   "metadata": {},
   "outputs": [],
   "source": [
    "page_change = driver.find_element_by_xpath('/html/body/div[1]/div/div[3]/div[1]/div[2]/div[12]/div/div/nav/a[1]')"
   ]
  },
  {
   "cell_type": "code",
   "execution_count": 318,
   "id": "af1415bc",
   "metadata": {},
   "outputs": [],
   "source": [
    "page_change.click()"
   ]
  },
  {
   "cell_type": "code",
   "execution_count": 322,
   "id": "b2eb9151",
   "metadata": {},
   "outputs": [
    {
     "data": {
      "text/plain": [
       "40"
      ]
     },
     "execution_count": 322,
     "metadata": {},
     "output_type": "execute_result"
    }
   ],
   "source": [
    "des_tag1 = driver.find_elements_by_xpath('//a[@class=\"IRpwTa\"]')\n",
    "len(des_tag)"
   ]
  },
  {
   "cell_type": "code",
   "execution_count": 325,
   "id": "8e2e2ed9",
   "metadata": {},
   "outputs": [
    {
     "data": {
      "text/plain": [
       "40"
      ]
     },
     "execution_count": 325,
     "metadata": {},
     "output_type": "execute_result"
    }
   ],
   "source": [
    "Product_Description1 = []\n",
    "\n",
    "for i in des_tag1:\n",
    "    Product_Description1.append(i.text)\n",
    "len(Product_Description1)"
   ]
  },
  {
   "cell_type": "code",
   "execution_count": 326,
   "id": "28dcd4d2",
   "metadata": {},
   "outputs": [
    {
     "data": {
      "text/plain": [
       "['UV Protection, Riding Glasses Wayfarer Sunglasses (53)',\n",
       " 'UV Protection Round Sunglasses (54)',\n",
       " 'UV Protection Aviator Sunglasses (57)',\n",
       " 'Gradient, Toughened Glass Lens, UV Protection Retro Squ...',\n",
       " 'UV Protection Wayfarer Sunglasses (Free Size)',\n",
       " 'UV Protection Wayfarer Sunglasses (50)',\n",
       " 'UV Protection, Polarized Wayfarer Sunglasses (Free Size...',\n",
       " 'by Lenskart Polarized, UV Protection Wayfarer Sunglasse...',\n",
       " 'UV Protection, Polarized, Mirrored Rectangular Sunglass...',\n",
       " 'UV Protection Rectangular Sunglasses (Free Size)',\n",
       " 'UV Protection Aviator Sunglasses (54)',\n",
       " 'UV Protection, Gradient Butterfly Sunglasses (60)',\n",
       " 'UV Protection, Polarized, Mirrored Rectangular Sunglass...',\n",
       " 'UV Protection Round Sunglasses (54)',\n",
       " 'Gradient Aviator Sunglasses (55)',\n",
       " 'by Lenskart Polarized, UV Protection Wayfarer Sunglasse...',\n",
       " 'UV Protection, Polarized, Mirrored Round Sunglasses (Fr...',\n",
       " 'UV Protection Rectangular Sunglasses (Free Size)',\n",
       " 'Riding Glasses, UV Protection Oval Sunglasses (48)',\n",
       " 'by Lenskart Polarized, UV Protection Wayfarer Sunglasse...',\n",
       " 'UV Protection Retro Square Sunglasses (53)',\n",
       " 'UV Protection, Riding Glasses Rectangular, Wayfarer, Ov...',\n",
       " 'UV Protection Aviator Sunglasses (54)',\n",
       " 'UV Protection Rectangular Sunglasses (64)',\n",
       " 'UV Protection Aviator Sunglasses (54)',\n",
       " 'UV Protection, Gradient Rectangular Sunglasses (Free Si...',\n",
       " 'UV Protection Retro Square Sunglasses (Free Size)',\n",
       " 'Mirrored Rectangular Sunglasses (64)',\n",
       " 'UV Protection Round Sunglasses (53)',\n",
       " 'UV Protection Aviator Sunglasses (57)',\n",
       " 'UV Protection Round Sunglasses (Free Size)',\n",
       " 'UV Protection, Gradient Retro Square Sunglasses (Free S...',\n",
       " 'UV Protection Round Sunglasses (54)',\n",
       " 'UV Protection, Mirrored Retro Square Sunglasses (53)',\n",
       " 'Riding Glasses, Night Vision Wrap-around Sunglasses (Fr...',\n",
       " 'UV Protection, Riding Glasses Rectangular Sunglasses (F...',\n",
       " 'UV Protection Aviator Sunglasses (Free Size)',\n",
       " 'UV Protection Clubmaster Sunglasses (Free Size)',\n",
       " 'Mirrored, UV Protection, Riding Glasses, Others Round S...',\n",
       " 'UV Protection, Gradient Over-sized Sunglasses (56)']"
      ]
     },
     "execution_count": 326,
     "metadata": {},
     "output_type": "execute_result"
    }
   ],
   "source": [
    "Product_Description1"
   ]
  },
  {
   "cell_type": "code",
   "execution_count": 327,
   "id": "59644032",
   "metadata": {},
   "outputs": [],
   "source": [
    "page_change = driver.find_element_by_xpath('/html/body/div[1]/div/div[3]/div[1]/div[2]/div[12]/div/div/nav/a[2]')"
   ]
  },
  {
   "cell_type": "code",
   "execution_count": 328,
   "id": "753a88d0",
   "metadata": {},
   "outputs": [],
   "source": [
    "page_change.click()"
   ]
  },
  {
   "cell_type": "code",
   "execution_count": 330,
   "id": "bed90a1c",
   "metadata": {},
   "outputs": [
    {
     "data": {
      "text/plain": [
       "40"
      ]
     },
     "execution_count": 330,
     "metadata": {},
     "output_type": "execute_result"
    }
   ],
   "source": [
    "des_tag2 = driver.find_elements_by_xpath('//a[@class=\"IRpwTa\"]')\n",
    "len(des_tag2)"
   ]
  },
  {
   "cell_type": "code",
   "execution_count": 331,
   "id": "b3b058b5",
   "metadata": {},
   "outputs": [
    {
     "data": {
      "text/plain": [
       "40"
      ]
     },
     "execution_count": 331,
     "metadata": {},
     "output_type": "execute_result"
    }
   ],
   "source": [
    "Product_Description2 = []\n",
    " \n",
    "for i in des_tag2:\n",
    "    Product_Description2.append(i.text)\n",
    "len(Product_Description2)"
   ]
  },
  {
   "cell_type": "code",
   "execution_count": 332,
   "id": "9cc568fb",
   "metadata": {},
   "outputs": [
    {
     "data": {
      "text/plain": [
       "['UV Protection Round Sunglasses (50)',\n",
       " 'UV Protection, Polarized, Mirrored Retro Square Sunglas...',\n",
       " 'UV Protection Wayfarer Sunglasses (53)',\n",
       " 'UV Protection, Gradient Rectangular Sunglasses (Free Si...',\n",
       " 'UV Protection Rectangular Sunglasses (58)',\n",
       " 'UV Protection Aviator Sunglasses (58)',\n",
       " 'UV Protection Rectangular Sunglasses (Free Size)',\n",
       " 'by Lenskart Polarized, UV Protection Wayfarer Sunglasse...',\n",
       " 'Polarized Round Sunglasses (48)',\n",
       " 'UV Protection Rectangular Sunglasses (Free Size)',\n",
       " 'UV Protection Round Sunglasses (48)',\n",
       " 'UV Protection, Gradient Butterfly Sunglasses (60)',\n",
       " 'UV Protection Wayfarer Sunglasses (53)',\n",
       " 'UV Protection Aviator, Wayfarer Sunglasses (Free Size)',\n",
       " 'UV Protection Rectangular Sunglasses (Free Size)',\n",
       " 'by Lenskart Polarized, UV Protection Wayfarer Sunglasse...',\n",
       " 'UV Protection Aviator Sunglasses (Free Size)',\n",
       " 'UV Protection, Gradient Aviator Sunglasses (57)',\n",
       " 'UV Protection Aviator Sunglasses (Free Size)',\n",
       " 'UV Protection Rectangular Sunglasses (64)',\n",
       " 'UV Protection Retro Square, Round Sunglasses (54)',\n",
       " 'UV Protection Oval Sunglasses (56)',\n",
       " 'Mirrored, UV Protection Wayfarer Sunglasses (53)',\n",
       " 'Mirrored Rectangular Sunglasses (64)',\n",
       " 'Mirrored, UV Protection, Gradient Round Sunglasses (55)',\n",
       " 'UV Protection, Others Round, Aviator Sunglasses (54)',\n",
       " 'UV Protection, Night Vision Wayfarer Sunglasses (Free S...',\n",
       " 'by Lenskart Polarized, UV Protection Wayfarer Sunglasse...',\n",
       " 'Riding Glasses, UV Protection Oval Sunglasses (52)',\n",
       " 'Riding Glasses Wrap-around Sunglasses (Free Size)',\n",
       " 'UV Protection, Mirrored, Gradient Round Sunglasses (51)',\n",
       " 'Polarized Wayfarer Sunglasses (55)',\n",
       " 'UV Protection Wayfarer Sunglasses (32)',\n",
       " 'UV Protection Aviator Sunglasses (58)',\n",
       " 'Mirrored Aviator Sunglasses (55)',\n",
       " 'UV Protection, Gradient Retro Square Sunglasses (Free S...',\n",
       " 'UV Protection, Riding Glasses, Others Aviator, Wayfarer...',\n",
       " 'UV Protection Retro Square Sunglasses (Free Size)',\n",
       " 'Others Retro Square Sunglasses (Free Size)',\n",
       " 'UV Protection, Riding Glasses Rectangular Sunglasses (F...']"
      ]
     },
     "execution_count": 332,
     "metadata": {},
     "output_type": "execute_result"
    }
   ],
   "source": [
    "Product_Description2"
   ]
  },
  {
   "cell_type": "code",
   "execution_count": 333,
   "id": "5c5b0305",
   "metadata": {},
   "outputs": [],
   "source": [
    "page_change = driver.find_element_by_xpath('/html/body/div[1]/div/div[3]/div[1]/div[2]/div[12]/div/div/nav/a[4]')"
   ]
  },
  {
   "cell_type": "code",
   "execution_count": 334,
   "id": "b6cc18df",
   "metadata": {},
   "outputs": [],
   "source": [
    "page_change.click()"
   ]
  },
  {
   "cell_type": "code",
   "execution_count": 336,
   "id": "74fa4fd0",
   "metadata": {},
   "outputs": [
    {
     "data": {
      "text/plain": [
       "39"
      ]
     },
     "execution_count": 336,
     "metadata": {},
     "output_type": "execute_result"
    }
   ],
   "source": [
    "des_tag3 = driver.find_elements_by_xpath('//a[@class=\"IRpwTa\"]')\n",
    "len(des_tag3)"
   ]
  },
  {
   "cell_type": "code",
   "execution_count": 338,
   "id": "e28ceb57",
   "metadata": {},
   "outputs": [
    {
     "data": {
      "text/plain": [
       "39"
      ]
     },
     "execution_count": 338,
     "metadata": {},
     "output_type": "execute_result"
    }
   ],
   "source": [
    "Product_Description3 = []\n",
    "\n",
    "for i in des_tag3:\n",
    "    Product_Description3.append(i.text)\n",
    "len(Product_Description3)"
   ]
  },
  {
   "cell_type": "code",
   "execution_count": 339,
   "id": "209ce403",
   "metadata": {},
   "outputs": [
    {
     "data": {
      "text/plain": [
       "['UV Protection, Gradient Butterfly Sunglasses (57)',\n",
       " 'UV Protection, Riding Glasses, Mirrored Wayfarer Sungla...',\n",
       " 'Gradient, UV Protection Wayfarer Sunglasses (Free Size)',\n",
       " 'UV Protection, Gradient Rectangular Sunglasses (Free Si...',\n",
       " 'UV Protection Round Sunglasses (Free Size)',\n",
       " 'Gradient, Toughened Glass Lens, UV Protection Retro Squ...',\n",
       " 'UV Protection, Gradient Round Sunglasses (Free Size)',\n",
       " 'by Lenskart Polarized, UV Protection Wayfarer Sunglasse...',\n",
       " 'UV Protection Rectangular Sunglasses (60)',\n",
       " 'Night Vision, Riding Glasses Wayfarer Sunglasses (53)',\n",
       " 'UV Protection, Gradient Butterfly Sunglasses (60)',\n",
       " 'Night Vision, UV Protection Round Sunglasses (54)',\n",
       " 'UV Protection Rectangular Sunglasses (Free Size)',\n",
       " 'Riding Glasses, UV Protection, Others Aviator Sunglasse...',\n",
       " 'by Lenskart Polarized, UV Protection Wayfarer Sunglasse...',\n",
       " 'UV Protection, Gradient Aviator Sunglasses (50)',\n",
       " 'Mirrored, UV Protection Wayfarer Sunglasses (Free Size)',\n",
       " 'UV Protection Wayfarer Sunglasses (Free Size)',\n",
       " 'by Lenskart Polarized, UV Protection Wayfarer Sunglasse...',\n",
       " 'UV Protection, Mirrored Retro Square Sunglasses (53)',\n",
       " 'UV Protection Aviator Sunglasses (62)',\n",
       " 'UV Protection Aviator Sunglasses (Free Size)',\n",
       " 'UV Protection Rectangular Sunglasses (64)',\n",
       " 'Polarized, UV Protection Retro Square Sunglasses (53)',\n",
       " 'UV Protection, Riding Glasses Wayfarer Sunglasses (53)',\n",
       " 'UV Protection Aviator Sunglasses (57)',\n",
       " 'Mirrored Rectangular Sunglasses (64)',\n",
       " 'UV Protection, Mirrored Aviator Sunglasses (Free Size)',\n",
       " 'UV Protection Aviator Sunglasses (59)',\n",
       " 'UV Protection, Mirrored Wayfarer Sunglasses (53)',\n",
       " 'UV Protection, Gradient Retro Square Sunglasses (Free S...',\n",
       " 'Polarized Round Sunglasses (48)',\n",
       " 'UV Protection, Mirrored Round Sunglasses (Free Size)',\n",
       " 'UV Protection, Gradient Butterfly, Retro Square Sunglas...',\n",
       " 'UV Protection, Riding Glasses Rectangular Sunglasses (F...',\n",
       " 'UV Protection Rectangular Sunglasses (55)',\n",
       " 'UV Protection Retro Square Sunglasses (58)',\n",
       " 'UV Protection Wayfarer Sunglasses (54)',\n",
       " 'UV Protection, Gradient Over-sized Sunglasses (56)']"
      ]
     },
     "execution_count": 339,
     "metadata": {},
     "output_type": "execute_result"
    }
   ],
   "source": [
    "Product_Description3"
   ]
  },
  {
   "cell_type": "code",
   "execution_count": 340,
   "id": "d729597f",
   "metadata": {},
   "outputs": [],
   "source": [
    "Product_Description = [Product_Description1 + Product_Description2 + Product_Description3]"
   ]
  },
  {
   "cell_type": "code",
   "execution_count": 341,
   "id": "e5dc9f98",
   "metadata": {},
   "outputs": [
    {
     "data": {
      "text/plain": [
       "[['UV Protection, Riding Glasses Wayfarer Sunglasses (53)',\n",
       "  'UV Protection Round Sunglasses (54)',\n",
       "  'UV Protection Aviator Sunglasses (57)',\n",
       "  'Gradient, Toughened Glass Lens, UV Protection Retro Squ...',\n",
       "  'UV Protection Wayfarer Sunglasses (Free Size)',\n",
       "  'UV Protection Wayfarer Sunglasses (50)',\n",
       "  'UV Protection, Polarized Wayfarer Sunglasses (Free Size...',\n",
       "  'by Lenskart Polarized, UV Protection Wayfarer Sunglasse...',\n",
       "  'UV Protection, Polarized, Mirrored Rectangular Sunglass...',\n",
       "  'UV Protection Rectangular Sunglasses (Free Size)',\n",
       "  'UV Protection Aviator Sunglasses (54)',\n",
       "  'UV Protection, Gradient Butterfly Sunglasses (60)',\n",
       "  'UV Protection, Polarized, Mirrored Rectangular Sunglass...',\n",
       "  'UV Protection Round Sunglasses (54)',\n",
       "  'Gradient Aviator Sunglasses (55)',\n",
       "  'by Lenskart Polarized, UV Protection Wayfarer Sunglasse...',\n",
       "  'UV Protection, Polarized, Mirrored Round Sunglasses (Fr...',\n",
       "  'UV Protection Rectangular Sunglasses (Free Size)',\n",
       "  'Riding Glasses, UV Protection Oval Sunglasses (48)',\n",
       "  'by Lenskart Polarized, UV Protection Wayfarer Sunglasse...',\n",
       "  'UV Protection Retro Square Sunglasses (53)',\n",
       "  'UV Protection, Riding Glasses Rectangular, Wayfarer, Ov...',\n",
       "  'UV Protection Aviator Sunglasses (54)',\n",
       "  'UV Protection Rectangular Sunglasses (64)',\n",
       "  'UV Protection Aviator Sunglasses (54)',\n",
       "  'UV Protection, Gradient Rectangular Sunglasses (Free Si...',\n",
       "  'UV Protection Retro Square Sunglasses (Free Size)',\n",
       "  'Mirrored Rectangular Sunglasses (64)',\n",
       "  'UV Protection Round Sunglasses (53)',\n",
       "  'UV Protection Aviator Sunglasses (57)',\n",
       "  'UV Protection Round Sunglasses (Free Size)',\n",
       "  'UV Protection, Gradient Retro Square Sunglasses (Free S...',\n",
       "  'UV Protection Round Sunglasses (54)',\n",
       "  'UV Protection, Mirrored Retro Square Sunglasses (53)',\n",
       "  'Riding Glasses, Night Vision Wrap-around Sunglasses (Fr...',\n",
       "  'UV Protection, Riding Glasses Rectangular Sunglasses (F...',\n",
       "  'UV Protection Aviator Sunglasses (Free Size)',\n",
       "  'UV Protection Clubmaster Sunglasses (Free Size)',\n",
       "  'Mirrored, UV Protection, Riding Glasses, Others Round S...',\n",
       "  'UV Protection, Gradient Over-sized Sunglasses (56)',\n",
       "  'UV Protection Round Sunglasses (50)',\n",
       "  'UV Protection, Polarized, Mirrored Retro Square Sunglas...',\n",
       "  'UV Protection Wayfarer Sunglasses (53)',\n",
       "  'UV Protection, Gradient Rectangular Sunglasses (Free Si...',\n",
       "  'UV Protection Rectangular Sunglasses (58)',\n",
       "  'UV Protection Aviator Sunglasses (58)',\n",
       "  'UV Protection Rectangular Sunglasses (Free Size)',\n",
       "  'by Lenskart Polarized, UV Protection Wayfarer Sunglasse...',\n",
       "  'Polarized Round Sunglasses (48)',\n",
       "  'UV Protection Rectangular Sunglasses (Free Size)',\n",
       "  'UV Protection Round Sunglasses (48)',\n",
       "  'UV Protection, Gradient Butterfly Sunglasses (60)',\n",
       "  'UV Protection Wayfarer Sunglasses (53)',\n",
       "  'UV Protection Aviator, Wayfarer Sunglasses (Free Size)',\n",
       "  'UV Protection Rectangular Sunglasses (Free Size)',\n",
       "  'by Lenskart Polarized, UV Protection Wayfarer Sunglasse...',\n",
       "  'UV Protection Aviator Sunglasses (Free Size)',\n",
       "  'UV Protection, Gradient Aviator Sunglasses (57)',\n",
       "  'UV Protection Aviator Sunglasses (Free Size)',\n",
       "  'UV Protection Rectangular Sunglasses (64)',\n",
       "  'UV Protection Retro Square, Round Sunglasses (54)',\n",
       "  'UV Protection Oval Sunglasses (56)',\n",
       "  'Mirrored, UV Protection Wayfarer Sunglasses (53)',\n",
       "  'Mirrored Rectangular Sunglasses (64)',\n",
       "  'Mirrored, UV Protection, Gradient Round Sunglasses (55)',\n",
       "  'UV Protection, Others Round, Aviator Sunglasses (54)',\n",
       "  'UV Protection, Night Vision Wayfarer Sunglasses (Free S...',\n",
       "  'by Lenskart Polarized, UV Protection Wayfarer Sunglasse...',\n",
       "  'Riding Glasses, UV Protection Oval Sunglasses (52)',\n",
       "  'Riding Glasses Wrap-around Sunglasses (Free Size)',\n",
       "  'UV Protection, Mirrored, Gradient Round Sunglasses (51)',\n",
       "  'Polarized Wayfarer Sunglasses (55)',\n",
       "  'UV Protection Wayfarer Sunglasses (32)',\n",
       "  'UV Protection Aviator Sunglasses (58)',\n",
       "  'Mirrored Aviator Sunglasses (55)',\n",
       "  'UV Protection, Gradient Retro Square Sunglasses (Free S...',\n",
       "  'UV Protection, Riding Glasses, Others Aviator, Wayfarer...',\n",
       "  'UV Protection Retro Square Sunglasses (Free Size)',\n",
       "  'Others Retro Square Sunglasses (Free Size)',\n",
       "  'UV Protection, Riding Glasses Rectangular Sunglasses (F...',\n",
       "  'UV Protection, Gradient Butterfly Sunglasses (57)',\n",
       "  'UV Protection, Riding Glasses, Mirrored Wayfarer Sungla...',\n",
       "  'Gradient, UV Protection Wayfarer Sunglasses (Free Size)',\n",
       "  'UV Protection, Gradient Rectangular Sunglasses (Free Si...',\n",
       "  'UV Protection Round Sunglasses (Free Size)',\n",
       "  'Gradient, Toughened Glass Lens, UV Protection Retro Squ...',\n",
       "  'UV Protection, Gradient Round Sunglasses (Free Size)',\n",
       "  'by Lenskart Polarized, UV Protection Wayfarer Sunglasse...',\n",
       "  'UV Protection Rectangular Sunglasses (60)',\n",
       "  'Night Vision, Riding Glasses Wayfarer Sunglasses (53)',\n",
       "  'UV Protection, Gradient Butterfly Sunglasses (60)',\n",
       "  'Night Vision, UV Protection Round Sunglasses (54)',\n",
       "  'UV Protection Rectangular Sunglasses (Free Size)',\n",
       "  'Riding Glasses, UV Protection, Others Aviator Sunglasse...',\n",
       "  'by Lenskart Polarized, UV Protection Wayfarer Sunglasse...',\n",
       "  'UV Protection, Gradient Aviator Sunglasses (50)',\n",
       "  'Mirrored, UV Protection Wayfarer Sunglasses (Free Size)',\n",
       "  'UV Protection Wayfarer Sunglasses (Free Size)',\n",
       "  'by Lenskart Polarized, UV Protection Wayfarer Sunglasse...',\n",
       "  'UV Protection, Mirrored Retro Square Sunglasses (53)',\n",
       "  'UV Protection Aviator Sunglasses (62)',\n",
       "  'UV Protection Aviator Sunglasses (Free Size)',\n",
       "  'UV Protection Rectangular Sunglasses (64)',\n",
       "  'Polarized, UV Protection Retro Square Sunglasses (53)',\n",
       "  'UV Protection, Riding Glasses Wayfarer Sunglasses (53)',\n",
       "  'UV Protection Aviator Sunglasses (57)',\n",
       "  'Mirrored Rectangular Sunglasses (64)',\n",
       "  'UV Protection, Mirrored Aviator Sunglasses (Free Size)',\n",
       "  'UV Protection Aviator Sunglasses (59)',\n",
       "  'UV Protection, Mirrored Wayfarer Sunglasses (53)',\n",
       "  'UV Protection, Gradient Retro Square Sunglasses (Free S...',\n",
       "  'Polarized Round Sunglasses (48)',\n",
       "  'UV Protection, Mirrored Round Sunglasses (Free Size)',\n",
       "  'UV Protection, Gradient Butterfly, Retro Square Sunglas...',\n",
       "  'UV Protection, Riding Glasses Rectangular Sunglasses (F...',\n",
       "  'UV Protection Rectangular Sunglasses (55)',\n",
       "  'UV Protection Retro Square Sunglasses (58)',\n",
       "  'UV Protection Wayfarer Sunglasses (54)',\n",
       "  'UV Protection, Gradient Over-sized Sunglasses (56)']]"
      ]
     },
     "execution_count": 341,
     "metadata": {},
     "output_type": "execute_result"
    }
   ],
   "source": [
    "Product_Description[:100]"
   ]
  },
  {
   "cell_type": "code",
   "execution_count": 353,
   "id": "920ef7f9",
   "metadata": {},
   "outputs": [],
   "source": [
    "page_change = driver.find_element_by_xpath('/html/body/div[1]/div/div[3]/div[1]/div[2]/div[12]/div/div/nav/a[1]')\n",
    "page_change.click()"
   ]
  },
  {
   "cell_type": "code",
   "execution_count": 354,
   "id": "e698d442",
   "metadata": {},
   "outputs": [],
   "source": [
    "rate_tag1 = driver.find_elements_by_xpath('//div[@class=\"_25b18c\"]')"
   ]
  },
  {
   "cell_type": "code",
   "execution_count": 355,
   "id": "437d8680",
   "metadata": {},
   "outputs": [
    {
     "data": {
      "text/plain": [
       "['₹159₹1,79991% off',\n",
       " '₹198₹2,49592% off',\n",
       " '₹219₹1,99989% off',\n",
       " '₹614₹2,99979% off',\n",
       " '₹729₹89918% off',\n",
       " '₹138₹1,29989% off',\n",
       " '₹193₹1,29985% off',\n",
       " '₹1,483₹2,50040% off',\n",
       " '₹115₹1,69993% off',\n",
       " '₹184₹1,99990% off',\n",
       " '₹131₹99986% off',\n",
       " '₹614₹1,99969% off',\n",
       " '₹136₹99986% off',\n",
       " '₹179₹1,59988% off',\n",
       " '₹221₹1,69986% off',\n",
       " '₹1,129₹1,99943% off',\n",
       " '₹579₹79927% off',\n",
       " '₹146₹1,14987% off',\n",
       " '₹102₹1,19991% off',\n",
       " '₹1,365₹2,50045% off',\n",
       " '₹215₹99978% off',\n",
       " '₹150₹1,59990% off',\n",
       " '₹349₹1,99982% off',\n",
       " '₹1,149₹1,99942% off',\n",
       " '₹150₹1,59990% off',\n",
       " '₹259₹1,99987% off',\n",
       " '₹249₹1,99987% off',\n",
       " '₹649₹1,99967% off',\n",
       " '₹226₹1,59985% off',\n",
       " '₹215₹1,29983% off',\n",
       " '₹139₹1,49790% off',\n",
       " '₹649₹1,99967% off',\n",
       " '₹154₹1,04985% off',\n",
       " '₹180₹1,99690% off',\n",
       " '₹209₹1,39985% off',\n",
       " '₹399₹2,22582% off',\n",
       " '₹226₹2,49990% off',\n",
       " '₹133₹1,59991% off',\n",
       " '₹239₹1,99888% off',\n",
       " '₹299₹1,99985% off']"
      ]
     },
     "execution_count": 355,
     "metadata": {},
     "output_type": "execute_result"
    }
   ],
   "source": [
    "Rate_Tag1 = []\n",
    "\n",
    "for i in rate_tag1:\n",
    "    Rate_Tag1.append(i.text)\n",
    "Rate_Tag1[:40]"
   ]
  },
  {
   "cell_type": "code",
   "execution_count": 348,
   "id": "641dda52",
   "metadata": {},
   "outputs": [],
   "source": [
    "page_change = driver.find_element_by_xpath('/html/body/div[1]/div/div[3]/div[1]/div[2]/div[12]/div/div/nav/a[2]')"
   ]
  },
  {
   "cell_type": "code",
   "execution_count": 349,
   "id": "be343c96",
   "metadata": {},
   "outputs": [],
   "source": [
    "page_change.click()"
   ]
  },
  {
   "cell_type": "code",
   "execution_count": 357,
   "id": "6208e688",
   "metadata": {},
   "outputs": [],
   "source": [
    "rate_tag2 = driver.find_elements_by_xpath('//div[@class=\"_25b18c\"]')"
   ]
  },
  {
   "cell_type": "code",
   "execution_count": 358,
   "id": "0c47b047",
   "metadata": {},
   "outputs": [
    {
     "data": {
      "text/plain": [
       "['₹159₹1,79991% off',\n",
       " '₹198₹2,49592% off',\n",
       " '₹219₹1,99989% off',\n",
       " '₹614₹2,99979% off',\n",
       " '₹729₹89918% off',\n",
       " '₹138₹1,29989% off',\n",
       " '₹193₹1,29985% off',\n",
       " '₹1,483₹2,50040% off',\n",
       " '₹115₹1,69993% off',\n",
       " '₹184₹1,99990% off',\n",
       " '₹131₹99986% off',\n",
       " '₹614₹1,99969% off',\n",
       " '₹136₹99986% off',\n",
       " '₹179₹1,59988% off',\n",
       " '₹221₹1,69986% off',\n",
       " '₹1,129₹1,99943% off',\n",
       " '₹579₹79927% off',\n",
       " '₹146₹1,14987% off',\n",
       " '₹102₹1,19991% off',\n",
       " '₹1,365₹2,50045% off',\n",
       " '₹215₹99978% off',\n",
       " '₹150₹1,59990% off',\n",
       " '₹349₹1,99982% off',\n",
       " '₹1,149₹1,99942% off',\n",
       " '₹150₹1,59990% off',\n",
       " '₹259₹1,99987% off',\n",
       " '₹249₹1,99987% off',\n",
       " '₹649₹1,99967% off',\n",
       " '₹226₹1,59985% off',\n",
       " '₹215₹1,29983% off',\n",
       " '₹139₹1,49790% off',\n",
       " '₹649₹1,99967% off',\n",
       " '₹154₹1,04985% off',\n",
       " '₹180₹1,99690% off',\n",
       " '₹209₹1,39985% off',\n",
       " '₹399₹2,22582% off',\n",
       " '₹226₹2,49990% off',\n",
       " '₹133₹1,59991% off',\n",
       " '₹239₹1,99888% off',\n",
       " '₹299₹1,99985% off']"
      ]
     },
     "execution_count": 358,
     "metadata": {},
     "output_type": "execute_result"
    }
   ],
   "source": [
    "Rate_Tag2 = []\n",
    "\n",
    "for i in rate_tag2:\n",
    "    Rate_Tag2.append(i.text)\n",
    "Rate_Tag2[:40]"
   ]
  },
  {
   "cell_type": "code",
   "execution_count": 360,
   "id": "431a745e",
   "metadata": {},
   "outputs": [],
   "source": [
    "page_change = driver.find_element_by_xpath('/html/body/div[1]/div/div[3]/div[1]/div[2]/div[12]/div/div/nav/a[4]')\n",
    "page_change.click()"
   ]
  },
  {
   "cell_type": "code",
   "execution_count": 361,
   "id": "f9a12b05",
   "metadata": {},
   "outputs": [],
   "source": [
    "rate_tag3 = driver.find_elements_by_xpath('//div[@class=\"_25b18c\"]')"
   ]
  },
  {
   "cell_type": "code",
   "execution_count": 362,
   "id": "6708debe",
   "metadata": {},
   "outputs": [
    {
     "data": {
      "text/plain": [
       "['₹284₹1,19976% off',\n",
       " '₹199₹1,99590% off',\n",
       " '₹106₹49978% off',\n",
       " '₹1,365₹1,99931% off',\n",
       " '₹149₹99985% off',\n",
       " '₹709₹2,99976% off',\n",
       " '₹185₹1,89990% off',\n",
       " '₹697₹3,69981% off',\n",
       " '₹114₹1,29991% off',\n",
       " '₹239₹1,99888% off',\n",
       " '₹399₹1,49973% off',\n",
       " '₹614₹1,99969% off',\n",
       " '₹149₹79981% off',\n",
       " '₹299₹2,59988% off',\n",
       " '₹844₹99915% off',\n",
       " '₹614₹1,99969% off',\n",
       " '₹217₹1,69987% off',\n",
       " '₹196₹1,49986% off',\n",
       " '₹231₹1,29982% off',\n",
       " '₹448₹1,99977% off',\n",
       " '₹325₹1,29974% off',\n",
       " '₹170₹1,69989% off',\n",
       " '₹226₹1,69986% off',\n",
       " '₹648₹2,85077% off',\n",
       " '₹125₹49974% off',\n",
       " '₹159₹1,29987% off',\n",
       " '₹129₹99987% off',\n",
       " '₹449₹1,99977% off',\n",
       " '₹579₹79927% off',\n",
       " '₹149₹49970% off',\n",
       " '₹249₹1,99987% off',\n",
       " '₹699₹1,99965% off',\n",
       " '₹759₹89915% off',\n",
       " '₹157₹1,19986% off',\n",
       " '₹109₹1,29991% off',\n",
       " '₹1,129₹1,99943% off',\n",
       " '₹469₹79941% off',\n",
       " '₹147₹99985% off',\n",
       " '₹749₹89916% off',\n",
       " '₹795₹3,69978% off']"
      ]
     },
     "execution_count": 362,
     "metadata": {},
     "output_type": "execute_result"
    }
   ],
   "source": [
    "Rate_Tage3 = []\n",
    "\n",
    "for i in rate_tag3:\n",
    "    Rate_Tage3.append(i.text)\n",
    "Rate_Tage3[:40]"
   ]
  },
  {
   "cell_type": "code",
   "execution_count": 363,
   "id": "19386958",
   "metadata": {},
   "outputs": [],
   "source": [
    "Rate = [Rate_Tag1[:40] + Rate_Tag2[:40] + Rate_Tage3[:40]]"
   ]
  },
  {
   "cell_type": "code",
   "execution_count": 364,
   "id": "1241d86e",
   "metadata": {},
   "outputs": [
    {
     "data": {
      "text/plain": [
       "[['₹159₹1,79991% off',\n",
       "  '₹198₹2,49592% off',\n",
       "  '₹219₹1,99989% off',\n",
       "  '₹614₹2,99979% off',\n",
       "  '₹729₹89918% off',\n",
       "  '₹138₹1,29989% off',\n",
       "  '₹193₹1,29985% off',\n",
       "  '₹1,483₹2,50040% off',\n",
       "  '₹115₹1,69993% off',\n",
       "  '₹184₹1,99990% off',\n",
       "  '₹131₹99986% off',\n",
       "  '₹614₹1,99969% off',\n",
       "  '₹136₹99986% off',\n",
       "  '₹179₹1,59988% off',\n",
       "  '₹221₹1,69986% off',\n",
       "  '₹1,129₹1,99943% off',\n",
       "  '₹579₹79927% off',\n",
       "  '₹146₹1,14987% off',\n",
       "  '₹102₹1,19991% off',\n",
       "  '₹1,365₹2,50045% off',\n",
       "  '₹215₹99978% off',\n",
       "  '₹150₹1,59990% off',\n",
       "  '₹349₹1,99982% off',\n",
       "  '₹1,149₹1,99942% off',\n",
       "  '₹150₹1,59990% off',\n",
       "  '₹259₹1,99987% off',\n",
       "  '₹249₹1,99987% off',\n",
       "  '₹649₹1,99967% off',\n",
       "  '₹226₹1,59985% off',\n",
       "  '₹215₹1,29983% off',\n",
       "  '₹139₹1,49790% off',\n",
       "  '₹649₹1,99967% off',\n",
       "  '₹154₹1,04985% off',\n",
       "  '₹180₹1,99690% off',\n",
       "  '₹209₹1,39985% off',\n",
       "  '₹399₹2,22582% off',\n",
       "  '₹226₹2,49990% off',\n",
       "  '₹133₹1,59991% off',\n",
       "  '₹239₹1,99888% off',\n",
       "  '₹299₹1,99985% off',\n",
       "  '₹159₹1,79991% off',\n",
       "  '₹198₹2,49592% off',\n",
       "  '₹219₹1,99989% off',\n",
       "  '₹614₹2,99979% off',\n",
       "  '₹729₹89918% off',\n",
       "  '₹138₹1,29989% off',\n",
       "  '₹193₹1,29985% off',\n",
       "  '₹1,483₹2,50040% off',\n",
       "  '₹115₹1,69993% off',\n",
       "  '₹184₹1,99990% off',\n",
       "  '₹131₹99986% off',\n",
       "  '₹614₹1,99969% off',\n",
       "  '₹136₹99986% off',\n",
       "  '₹179₹1,59988% off',\n",
       "  '₹221₹1,69986% off',\n",
       "  '₹1,129₹1,99943% off',\n",
       "  '₹579₹79927% off',\n",
       "  '₹146₹1,14987% off',\n",
       "  '₹102₹1,19991% off',\n",
       "  '₹1,365₹2,50045% off',\n",
       "  '₹215₹99978% off',\n",
       "  '₹150₹1,59990% off',\n",
       "  '₹349₹1,99982% off',\n",
       "  '₹1,149₹1,99942% off',\n",
       "  '₹150₹1,59990% off',\n",
       "  '₹259₹1,99987% off',\n",
       "  '₹249₹1,99987% off',\n",
       "  '₹649₹1,99967% off',\n",
       "  '₹226₹1,59985% off',\n",
       "  '₹215₹1,29983% off',\n",
       "  '₹139₹1,49790% off',\n",
       "  '₹649₹1,99967% off',\n",
       "  '₹154₹1,04985% off',\n",
       "  '₹180₹1,99690% off',\n",
       "  '₹209₹1,39985% off',\n",
       "  '₹399₹2,22582% off',\n",
       "  '₹226₹2,49990% off',\n",
       "  '₹133₹1,59991% off',\n",
       "  '₹239₹1,99888% off',\n",
       "  '₹299₹1,99985% off',\n",
       "  '₹284₹1,19976% off',\n",
       "  '₹199₹1,99590% off',\n",
       "  '₹106₹49978% off',\n",
       "  '₹1,365₹1,99931% off',\n",
       "  '₹149₹99985% off',\n",
       "  '₹709₹2,99976% off',\n",
       "  '₹185₹1,89990% off',\n",
       "  '₹697₹3,69981% off',\n",
       "  '₹114₹1,29991% off',\n",
       "  '₹239₹1,99888% off',\n",
       "  '₹399₹1,49973% off',\n",
       "  '₹614₹1,99969% off',\n",
       "  '₹149₹79981% off',\n",
       "  '₹299₹2,59988% off',\n",
       "  '₹844₹99915% off',\n",
       "  '₹614₹1,99969% off',\n",
       "  '₹217₹1,69987% off',\n",
       "  '₹196₹1,49986% off',\n",
       "  '₹231₹1,29982% off',\n",
       "  '₹448₹1,99977% off',\n",
       "  '₹325₹1,29974% off',\n",
       "  '₹170₹1,69989% off',\n",
       "  '₹226₹1,69986% off',\n",
       "  '₹648₹2,85077% off',\n",
       "  '₹125₹49974% off',\n",
       "  '₹159₹1,29987% off',\n",
       "  '₹129₹99987% off',\n",
       "  '₹449₹1,99977% off',\n",
       "  '₹579₹79927% off',\n",
       "  '₹149₹49970% off',\n",
       "  '₹249₹1,99987% off',\n",
       "  '₹699₹1,99965% off',\n",
       "  '₹759₹89915% off',\n",
       "  '₹157₹1,19986% off',\n",
       "  '₹109₹1,29991% off',\n",
       "  '₹1,129₹1,99943% off',\n",
       "  '₹469₹79941% off',\n",
       "  '₹147₹99985% off',\n",
       "  '₹749₹89916% off',\n",
       "  '₹795₹3,69978% off']]"
      ]
     },
     "execution_count": 364,
     "metadata": {},
     "output_type": "execute_result"
    }
   ],
   "source": [
    "Rate[:100]"
   ]
  },
  {
   "cell_type": "code",
   "execution_count": 472,
   "id": "7db869ec",
   "metadata": {},
   "outputs": [],
   "source": [
    "driver = webdriver.Chrome(r'C:\\Users\\Jitender\\Downloads\\chromedriver_win32\\chromedriver.exe')"
   ]
  },
  {
   "cell_type": "code",
   "execution_count": 473,
   "id": "4f9f6590",
   "metadata": {},
   "outputs": [],
   "source": [
    "url = 'https://www.flipkart.com/apple-iphone-11-black-64-gb/product-reviews/itm4e5041ba101fd?pid=MOBFWQ6BXGJCEYNY&lid=LSTMOBFWQ6BXGJCEYNYZXSHRJ&marketplace=FLIPKART'\n",
    "driver.get(url)"
   ]
  },
  {
   "cell_type": "code",
   "execution_count": 620,
   "id": "41569e6a",
   "metadata": {},
   "outputs": [],
   "source": [
    "rating_tag1 = driver.find_elements_by_xpath('//div[@class=\"_3LWZlK _1BLPMq\"]')"
   ]
  },
  {
   "cell_type": "code",
   "execution_count": 630,
   "id": "085e0cf9",
   "metadata": {},
   "outputs": [],
   "source": [
    "rating_tag2 = driver.find_elements_by_xpath('//div[@class=\"_3LWZlK _1BLPMq\"]')"
   ]
  },
  {
   "cell_type": "code",
   "execution_count": 638,
   "id": "a98370fc",
   "metadata": {},
   "outputs": [],
   "source": [
    "rating_tag3 = driver.find_elements_by_xpath('//div[@class=\"_3LWZlK _1BLPMq\"]')"
   ]
  },
  {
   "cell_type": "code",
   "execution_count": 645,
   "id": "10dd4ac3",
   "metadata": {},
   "outputs": [],
   "source": [
    "rating_tag4 = driver.find_elements_by_xpath('//div[@class=\"_3LWZlK _1BLPMq\"]')"
   ]
  },
  {
   "cell_type": "code",
   "execution_count": 657,
   "id": "ead21483",
   "metadata": {},
   "outputs": [
    {
     "data": {
      "text/plain": [
       "9"
      ]
     },
     "execution_count": 657,
     "metadata": {},
     "output_type": "execute_result"
    }
   ],
   "source": [
    "rating_tag5 = driver.find_elements_by_xpath('//div[@class=\"_3LWZlK _1BLPMq\"]')\n",
    "len(rating_tag5)"
   ]
  },
  {
   "cell_type": "code",
   "execution_count": 661,
   "id": "c7676b03",
   "metadata": {},
   "outputs": [],
   "source": [
    "rating_tag6 = driver.find_elements_by_xpath('//div[@class=\"_3LWZlK _1BLPMq\"]')"
   ]
  },
  {
   "cell_type": "code",
   "execution_count": 668,
   "id": "562f706f",
   "metadata": {},
   "outputs": [],
   "source": [
    "rating_tag7 = driver.find_elements_by_xpath('//div[@class=\"_3LWZlK _1BLPMq\"]')"
   ]
  },
  {
   "cell_type": "code",
   "execution_count": 676,
   "id": "391a5212",
   "metadata": {},
   "outputs": [],
   "source": [
    "rating_tag8 = driver.find_elements_by_xpath('//div[@class=\"_3LWZlK _1BLPMq\"]')"
   ]
  },
  {
   "cell_type": "code",
   "execution_count": 684,
   "id": "7d3d6db4",
   "metadata": {},
   "outputs": [],
   "source": [
    "rating_tag9 = driver.find_elements_by_xpath('//div[@class=\"_3LWZlK _1BLPMq\"]')"
   ]
  },
  {
   "cell_type": "code",
   "execution_count": 691,
   "id": "06a61cd4",
   "metadata": {},
   "outputs": [],
   "source": [
    "rating_tag10 = driver.find_elements_by_xpath('//div[@class=\"_3LWZlK _1BLPMq\"]')"
   ]
  },
  {
   "cell_type": "code",
   "execution_count": 621,
   "id": "c2ae375e",
   "metadata": {},
   "outputs": [],
   "source": [
    "Ratings1 = []\n",
    "\n",
    "for i in rating_tag1:\n",
    "    Ratings.append(i.text)"
   ]
  },
  {
   "cell_type": "code",
   "execution_count": 631,
   "id": "b5dc87e8",
   "metadata": {},
   "outputs": [],
   "source": [
    "Ratings2 = []\n",
    "\n",
    "for i in rating_tag2:\n",
    "    Ratings2.append(i.text)"
   ]
  },
  {
   "cell_type": "code",
   "execution_count": 639,
   "id": "550c21b8",
   "metadata": {},
   "outputs": [],
   "source": [
    "Ratings3 = []\n",
    "\n",
    "for i in rating_tag3:\n",
    "    Ratings3.append(i.text)"
   ]
  },
  {
   "cell_type": "code",
   "execution_count": 646,
   "id": "65d8ab62",
   "metadata": {},
   "outputs": [],
   "source": [
    "Ratings4 = []\n",
    "\n",
    "for i in rating_tag4:\n",
    "    Ratings3.append(i.text)"
   ]
  },
  {
   "cell_type": "code",
   "execution_count": 653,
   "id": "f54323a0",
   "metadata": {},
   "outputs": [],
   "source": [
    "Ratings5 = []\n",
    "\n",
    "for i in rating_tag5:\n",
    "    Ratings3.append(i.text)"
   ]
  },
  {
   "cell_type": "code",
   "execution_count": 662,
   "id": "86769d23",
   "metadata": {},
   "outputs": [],
   "source": [
    "Ratings6 = []\n",
    "\n",
    "for i in rating_tag6:\n",
    "    Ratings3.append(i.text)"
   ]
  },
  {
   "cell_type": "code",
   "execution_count": 669,
   "id": "42c9af48",
   "metadata": {},
   "outputs": [],
   "source": [
    "Ratings7 = []\n",
    "\n",
    "for i in rating_tag7:\n",
    "    Ratings3.append(i.text)"
   ]
  },
  {
   "cell_type": "code",
   "execution_count": 677,
   "id": "5640605f",
   "metadata": {},
   "outputs": [],
   "source": [
    "Ratings8 = []\n",
    "\n",
    "for i in rating_tag8:\n",
    "    Ratings3.append(i.text)"
   ]
  },
  {
   "cell_type": "code",
   "execution_count": 685,
   "id": "6d91288e",
   "metadata": {},
   "outputs": [],
   "source": [
    "Ratings9 = []\n",
    "\n",
    "for i in rating_tag9:\n",
    "    Ratings3.append(i.text)"
   ]
  },
  {
   "cell_type": "code",
   "execution_count": 692,
   "id": "4c916d2a",
   "metadata": {},
   "outputs": [],
   "source": [
    "Ratings10 = []\n",
    "\n",
    "for i in rating_tag10:\n",
    "    Ratings3.append(i.text)"
   ]
  },
  {
   "cell_type": "code",
   "execution_count": 697,
   "id": "b49745b5",
   "metadata": {},
   "outputs": [],
   "source": [
    "Ratings = [Ratings1 + Ratings2 + Ratings3 + Ratings4 + Ratings5 + Ratings6 + Ratings7 + Ratings8 + Ratings9 + Ratings10]"
   ]
  },
  {
   "cell_type": "code",
   "execution_count": 698,
   "id": "555b940f",
   "metadata": {},
   "outputs": [
    {
     "data": {
      "text/plain": [
       "[['5',\n",
       "  '5',\n",
       "  '5',\n",
       "  '5',\n",
       "  '5',\n",
       "  '5',\n",
       "  '5',\n",
       "  '5',\n",
       "  '5',\n",
       "  '4',\n",
       "  '5',\n",
       "  '4',\n",
       "  '5',\n",
       "  '5',\n",
       "  '5',\n",
       "  '5',\n",
       "  '4',\n",
       "  '5',\n",
       "  '5',\n",
       "  '5',\n",
       "  '5',\n",
       "  '4',\n",
       "  '5',\n",
       "  '5',\n",
       "  '5',\n",
       "  '5',\n",
       "  '5',\n",
       "  '5',\n",
       "  '5',\n",
       "  '4',\n",
       "  '5',\n",
       "  '5',\n",
       "  '4',\n",
       "  '5',\n",
       "  '5',\n",
       "  '5',\n",
       "  '5',\n",
       "  '5',\n",
       "  '5',\n",
       "  '5',\n",
       "  '5',\n",
       "  '5',\n",
       "  '5',\n",
       "  '5',\n",
       "  '5',\n",
       "  '5',\n",
       "  '5',\n",
       "  '5',\n",
       "  '4',\n",
       "  '5',\n",
       "  '5',\n",
       "  '5',\n",
       "  '4',\n",
       "  '5',\n",
       "  '5',\n",
       "  '5',\n",
       "  '5',\n",
       "  '5',\n",
       "  '5',\n",
       "  '5',\n",
       "  '5',\n",
       "  '5',\n",
       "  '5',\n",
       "  '5',\n",
       "  '5',\n",
       "  '5',\n",
       "  '5',\n",
       "  '5',\n",
       "  '5',\n",
       "  '3',\n",
       "  '5',\n",
       "  '5',\n",
       "  '5',\n",
       "  '5',\n",
       "  '5',\n",
       "  '5',\n",
       "  '5',\n",
       "  '5',\n",
       "  '5',\n",
       "  '5',\n",
       "  '5',\n",
       "  '5',\n",
       "  '5',\n",
       "  '5']]"
      ]
     },
     "execution_count": 698,
     "metadata": {},
     "output_type": "execute_result"
    }
   ],
   "source": [
    "Ratings "
   ]
  },
  {
   "cell_type": "code",
   "execution_count": 619,
   "id": "686e74be",
   "metadata": {},
   "outputs": [],
   "source": [
    "previous_page = driver.find_element_by_xpath('/html/body/div/div/div[3]/div/div/div[2]/div[13]/div/div/nav/a[1]/span')\n",
    "previous_page.click()"
   ]
  },
  {
   "cell_type": "code",
   "execution_count": 690,
   "id": "c2a47d10",
   "metadata": {},
   "outputs": [],
   "source": [
    "next_page = driver.find_element_by_xpath('/html/body/div/div/div[3]/div/div/div[2]/div[13]/div/div/nav/a[12]/span')\n",
    "next_page.click()"
   ]
  },
  {
   "cell_type": "code",
   "execution_count": 624,
   "id": "420f8af3",
   "metadata": {},
   "outputs": [],
   "source": [
    "review_summary1 = driver.find_elements_by_xpath('//p[@class=\"_2-N8zT\"]')"
   ]
  },
  {
   "cell_type": "code",
   "execution_count": 632,
   "id": "4adb746e",
   "metadata": {},
   "outputs": [],
   "source": [
    "review_summary2 = driver.find_elements_by_xpath('//p[@class=\"_2-N8zT\"]')"
   ]
  },
  {
   "cell_type": "code",
   "execution_count": 640,
   "id": "3cd304b0",
   "metadata": {},
   "outputs": [],
   "source": [
    "review_summary3 = driver.find_elements_by_xpath('//p[@class=\"_2-N8zT\"]')"
   ]
  },
  {
   "cell_type": "code",
   "execution_count": 647,
   "id": "d919c270",
   "metadata": {},
   "outputs": [],
   "source": [
    "review_summary4 = driver.find_elements_by_xpath('//p[@class=\"_2-N8zT\"]')"
   ]
  },
  {
   "cell_type": "code",
   "execution_count": 654,
   "id": "186c7022",
   "metadata": {},
   "outputs": [],
   "source": [
    "review_summary5 = driver.find_elements_by_xpath('//p[@class=\"_2-N8zT\"]')"
   ]
  },
  {
   "cell_type": "code",
   "execution_count": 663,
   "id": "19f40663",
   "metadata": {},
   "outputs": [],
   "source": [
    "review_summary6 = driver.find_elements_by_xpath('//p[@class=\"_2-N8zT\"]')"
   ]
  },
  {
   "cell_type": "code",
   "execution_count": 670,
   "id": "8d67feef",
   "metadata": {},
   "outputs": [],
   "source": [
    "review_summary7 = driver.find_elements_by_xpath('//p[@class=\"_2-N8zT\"]')"
   ]
  },
  {
   "cell_type": "code",
   "execution_count": 678,
   "id": "59fe807b",
   "metadata": {},
   "outputs": [],
   "source": [
    "review_summary8 = driver.find_elements_by_xpath('//p[@class=\"_2-N8zT\"]')"
   ]
  },
  {
   "cell_type": "code",
   "execution_count": 686,
   "id": "b476dbdd",
   "metadata": {},
   "outputs": [],
   "source": [
    "review_summary9 = driver.find_elements_by_xpath('//p[@class=\"_2-N8zT\"]')"
   ]
  },
  {
   "cell_type": "code",
   "execution_count": 693,
   "id": "15dba852",
   "metadata": {},
   "outputs": [],
   "source": [
    "review_summary10 = driver.find_elements_by_xpath('//p[@class=\"_2-N8zT\"]')"
   ]
  },
  {
   "cell_type": "code",
   "execution_count": 625,
   "id": "7c1493fd",
   "metadata": {},
   "outputs": [],
   "source": [
    "Review1 = []\n",
    "\n",
    "for i in review_summary1:\n",
    "        Review1.append(i.text)"
   ]
  },
  {
   "cell_type": "code",
   "execution_count": 633,
   "id": "aebe441a",
   "metadata": {},
   "outputs": [],
   "source": [
    "Review2 = []\n",
    "\n",
    "for i in review_summary2:\n",
    "        Review1.append(i.text)"
   ]
  },
  {
   "cell_type": "code",
   "execution_count": 641,
   "id": "3d1c7c2b",
   "metadata": {},
   "outputs": [],
   "source": [
    "Review3 = []\n",
    "\n",
    "for i in review_summary3:\n",
    "        Review1.append(i.text)"
   ]
  },
  {
   "cell_type": "code",
   "execution_count": 648,
   "id": "fabb1079",
   "metadata": {},
   "outputs": [],
   "source": [
    "Review4 = []\n",
    "\n",
    "for i in review_summary4:\n",
    "        Review1.append(i.text)"
   ]
  },
  {
   "cell_type": "code",
   "execution_count": 655,
   "id": "5a0b545c",
   "metadata": {},
   "outputs": [],
   "source": [
    "Review5 = []\n",
    "\n",
    "for i in review_summary5:\n",
    "        Review1.append(i.text)"
   ]
  },
  {
   "cell_type": "code",
   "execution_count": 664,
   "id": "615c5697",
   "metadata": {},
   "outputs": [],
   "source": [
    "Review6 = []\n",
    "\n",
    "for i in review_summary6:\n",
    "        Review1.append(i.text)"
   ]
  },
  {
   "cell_type": "code",
   "execution_count": 671,
   "id": "bdacba77",
   "metadata": {},
   "outputs": [],
   "source": [
    "Review7 = []\n",
    "\n",
    "for i in review_summary7:\n",
    "        Review1.append(i.text)"
   ]
  },
  {
   "cell_type": "code",
   "execution_count": 679,
   "id": "c436662d",
   "metadata": {},
   "outputs": [],
   "source": [
    "Review8 = []\n",
    "\n",
    "for i in review_summary8:\n",
    "        Review1.append(i.text)"
   ]
  },
  {
   "cell_type": "code",
   "execution_count": 687,
   "id": "0c69fb93",
   "metadata": {},
   "outputs": [],
   "source": [
    "Review9 = []\n",
    "\n",
    "for i in review_summary9:\n",
    "        Review1.append(i.text)"
   ]
  },
  {
   "cell_type": "code",
   "execution_count": 694,
   "id": "d28c6b89",
   "metadata": {},
   "outputs": [],
   "source": [
    "Review10 = []\n",
    "\n",
    "for i in review_summary10:\n",
    "        Review1.append(i.text)"
   ]
  },
  {
   "cell_type": "code",
   "execution_count": 695,
   "id": "26471836",
   "metadata": {},
   "outputs": [],
   "source": [
    "Review = [Review1 + Review2 + Review3 + Review4 + Review5 + Review6 + Review7 + Review8 + Review9 + Review10]"
   ]
  },
  {
   "cell_type": "code",
   "execution_count": 696,
   "id": "3cd2c0bd",
   "metadata": {},
   "outputs": [
    {
     "data": {
      "text/plain": [
       "[['Brilliant',\n",
       "  'Simply awesome',\n",
       "  'Best in the market!',\n",
       "  'Perfect product!',\n",
       "  'Fabulous!',\n",
       "  'Worth every penny',\n",
       "  'Great product',\n",
       "  'Highly recommended',\n",
       "  'Good choice',\n",
       "  'Worth every penny',\n",
       "  'The Best Phone for the Money\\n\\nThe iPhone 11 offers superb cameras, a more durable design and excellent battery life for an affordable price.\\n\\nCompelling ultra-wide camera\\nNew Night mode is excellent\\nLong battery life',\n",
       "  'Really satisfied with the Product I received... It’s totally genuine and the packaging was also really good so if ur planning to buy just go for it.',\n",
       "  'Great iPhone very snappy experience as apple kind. Upgraded from iPhone 7.\\nPros\\n-Camera top class\\n- Battery top performed\\n-Chipset no need to say as apple kind\\n-Security as you expect from apple\\n- Display super bright industry leading colour\\naccuracy and super responsive\\n-Build quality as expect from apple sturdy\\npremium durable beautiful stylish.\\n-Os most stable os in smartphone industry\\n\\nCons\\n-No 5G\\n-Display is not based on OLED technology\\n-Charger headphones and 1 apple stic...\\nREAD MORE',\n",
       "  'Amazing phone with great cameras and better battery which gives you the best performance. I just love the camera .',\n",
       "  'This is my first iOS phone. I am very happy with this product. Very much satisfied with this. I love this phone.',\n",
       "  'Previously I was using one plus 3t it was a great phone\\nAnd then I decided to upgrade I am stuck between Samsung s10 plus or iPhone 11\\nI have seen the specs and everything were good except the display it’s somewhere between 720-1080 and it’s not even an amoled it’s an LCD display\\nBut I decided to go with iPhone because I have never used an IOS device I have Been an android user from the past 9 years I ordered IPhone 11 (128gb) product red\\nMy experience after using 3 weeks\\n1. The delivery ...\\nREAD MORE',\n",
       "  'Amazing Powerful and Durable Gadget.\\n\\nI’m am very happy with the camera picture quality, Amazing face id unlocked in dark room, Strong battery with perfect screen size as you can carry easily in pocket. This is my third iPhone.\\n\\nI shifted from android Samsung Note series to iPhone because of the strong build quality and peace of mind for next 3-4 years.\\n\\nDon’t think to much just go for it and I suggest you to go for minimum 128gb variant or more 256gb.\\n\\nI’ve attached my puppy pics and no fi...\\nREAD MORE',\n",
       "  'What a camera .....just awesome ..you can feel this iPhone just awesome . Good for gaming also ...try pubg in hd it’s just wow',\n",
       "  'So far it’s been an AMAZING experience coming back to iOS after nearly a decade but it’s not as versatile as android though phone is sturdy dropped it accidentally a couple of times and nothing happened fortunately camera is awesome',\n",
       "  'i11 is worthy to buy, too much happy with the product. Thank u flipkart I received the item on time..loved it..',\n",
       "  'Highly recommended',\n",
       "  'Perfect product!',\n",
       "  'Perfect product!',\n",
       "  'Highly recommended',\n",
       "  'Perfect product!',\n",
       "  'Worth every penny',\n",
       "  'Classy product',\n",
       "  'Worth every penny',\n",
       "  'Worth every penny',\n",
       "  'Nice product',\n",
       "  'iphone 11 is a very good phone to buy only if you can compromise for the display. The display on this is device is pretty good but you can get other options with better displays in this price segment.\\nIf you can survive with an HD+ LCD panel with thicker bezels and a notch up top then this is a very good phone for you.\\nCameras are awesome, battery backup excellent, great performance and a decent premium look. Good job Apple !',\n",
       "  'It’s a must buy who is looking for an upgrade from previous generation of iPhones. If you are using XR then still you can hold on for sometime and upgrade to 2020 model else this phone is a must buy . Camera quality is amazing and wide angle is something to count upon. Performance wise it’s amazing and feels premium while holding in hand. So a big YES for this device. Go for 128 GB variant as the 4K videos will occupy lots of space and the storage can get over very quickly. Try to buy it with...\\nREAD MORE',\n",
       "  'Value for money❤️❤️\\nIts awesome mobile phone in the world ...\\nDisplay was very good and bright ..\\nTrust me freinds you r never regret after Buying..\\nJust go for it....\\nI love this phone and i switch to iphone x to 11',\n",
       "  \"It's my first time to use iOS phone and I am loving my upgradation 😍😍 I love the color, I love the assebility of the phone....I need to learn more about its functionality, but as far as I have seen, it's quite easy and it has a lot of functions to work on, specially if you are a content writer or a blogger you get a lot of content creation platforms and they are really amazing.\\n\\nThis phone not only for good quality photography but a lot of other task too.😍💯\",\n",
       "  \"Iphone is just awesome.. battery backup is very very nice.. continuously for 10 hours we can use it.camera is just awesome.. display is just fab.i love it alot..i had to wait 15 days for it as i pre ordered it..overalll it's worth the price..these all images are clicked by my iPhone..and i love it.\",\n",
       "  'Best budget Iphone till date ❤️ go for it guys without second thought. Let me explain you guys about Camera, Display, battery, and performance.\\n\\nCamera: at this price range there is no comparison of camera, you’ll love the picture quality as well as video quality. I am a Vlogger I wanted an iPhone with 4k video by front camera and I got this phone and I am more than happy 😃\\n\\nBattery: I use this phone roughly as I am active social media person and I have a youtube channel. so the battery ba...\\nREAD MORE',\n",
       "  'Totally in love with this ❤ the camera quality is amazing just love it 😘😘😘 itsss dammnnnnnn amazing... Must buy iPhone 11 this is my best experience ever ☀👌👌🧡🧡🧡🧡🧡 thanku apple ❤',\n",
       "  'Smooth like butter, camera like fantabulous, sound is crystal clear & its red color is damn attractive, i am just loving it. Must buy if you love photography.\\n\\nLucky to get it in sale, thank you Flipkart.',\n",
       "  'It’s been almost a month since I have been using this phone. I upgraded from an iPhone 8. The main issue with my 8 was battery and this phone is just awesome when it comes to battery. It lasts a day and a half for me with my regular use , internet connected always with 4g\\nCan’t move forward without saying this. Battery of this phone is a life saver when I am traveling or at work when I don’t get the option to charge\\nCamera is superb. Front cam selfies and back cam photos are just awesome.\\n...\\nREAD MORE',\n",
       "  'Awesome Phone. Slightly high price but worth. Better than iPhone XR.\\nCamera is superb and wide angle camera is very clear.\\n12MP selfie camera is also very good.\\nA13 Chip gives a very good and smooth performance.',\n",
       "  'Brilliant',\n",
       "  'Good choice',\n",
       "  'Perfect product!',\n",
       "  'Wonderful',\n",
       "  'Terrific purchase',\n",
       "  'Simply awesome',\n",
       "  'Good quality product',\n",
       "  'Very poor',\n",
       "  'Perfect product!',\n",
       "  'Must buy!',\n",
       "  'I have migrated from OP 7pro... and trust me, iPhone 11 is totally worth it.. following are the reasons:-\\n1)there is ABSOLUTELY NO ISSUE WITH THE DISPLAY... its crisp, sharp and I found it to be much much better than OP7 pro. Netflix, Prime video all run crisply... you won’t miss a thing. True Tone works flawlessly...the display brightness is perfect. OP have not calibrated their screens properly.\\n2) iPhone 11 series have really good cameras... others have spoken in depth about them.\\n3) bat...\\nREAD MORE',\n",
       "  'Looking so good 👍 😍 super 👌 stylish 😎 phone\\nClean box 📦 good 👍 delivery 👌 fast delivery\\nOriginal box Original iphone 📱 👌 😍😍😍',\n",
       "  'After 1 month use I found camera quality best compared to my previous Samsung note 10+.Display not good as note 10 also charging too slow.Apple should add fast charger like 11 plus and pro.Best phone for daily use',\n",
       "  'I just directly switch from iphone 6s to iphone 11 .The best premium smartphone I recommend to everyone. Excellent quality and colors the iphone have in 11 series.\\nCamera quality is just awesome and the major feel when we hold in our hands. The sound quality and volume is also higher then the previous models.\\nI will recommend to buy iphone 11 instead of pro models , there is nothing much difference as this model contains everything which fulfill our needs.\\n\\nOnly one thing that I dislike abo...\\nREAD MORE',\n",
       "  'The built quality is not very premium.\\nThe battery back is great .\\nThe LCD panel is not so sharp but the brightness level is very High .\\nCamera is super duper awesome.\\nThe red colour which people think is bright is actually very soothing and excellent colour to choose from .\\nThe A13 Bionic chip is really a flagship processor and can beat any phone which even has 12 gb ram .\\nCamera module is very great and looks very stylish.',\n",
       "  'Really good actually this is my first apple product am using its really awesome performance wise excellent. Am really happy with this iphone11',\n",
       "  'it is very good at performance. Camera is best like before and very smooth response even in water. Don’t buy 12 mini buy iPhone 11 , it is far better than 12 mini believe me ! Have a nice day \\uf8ff ☺️',\n",
       "  'Reviewing again after 5 months. At the beginning the battery and performance was good but it degraded soon. Also I was facing heating issues. The mobile will heat up like a stove sometimes. You cannot even play Pubg even in low settings properly, performance is not a problem but heating is. Also if you play that game for 10 mins the brightness will be automatically down due to over heating even when the auto brightness is set to off. This will not be solved even if u manually increase the bri...\\nREAD MORE',\n",
       "  'It is just awesome mobile for this price from Apple,\\n\\nAfter 10 days review\\n\\nBattery enough for 1 day even 24*7 Internet will be on and mostly internet usage\\n\\nCamera is just awesome cool , android 64 MP is equal to this just 12 MP\\n\\nA13 Bionic chip will give more high performance without hanging\\n\\nAudio stereo speakers will give Dolby atoms sound with crystal clear\\n\\nVideo recording is like cinematic shots of every sec can be a 4K 60fps. Just awesome this phone\\niPhone 11 loved one',\n",
       "  'Best Apple iPhone that i have bought at a very reasonable price, camera quality is next level just awesome n of superior quality android phones not even close(RIP) to that and also battery is really good but packaging by Flipkart of iPhone was very poor of such a expensive product, firstly im bit worried about the quality of product if i purchased it through online how was the product but i think now this was mine best decision to bought it through Flipkart online because i got genuine Apple...\\nREAD MORE',\n",
       "  'Must buy!',\n",
       "  'Great product',\n",
       "  'Very Good',\n",
       "  'Wonderful',\n",
       "  'Classy product',\n",
       "  'Awesome',\n",
       "  'Classy product',\n",
       "  'Awesome',\n",
       "  'Perfect product!',\n",
       "  'Very poor',\n",
       "  'I rate this product 5* as it has got amazing user experience with the best performing A13 bionic processor. The screen responds and graphics rendering is top notch. With casual gaming and internet browsing, the battery lasts for approx. 1 day. Camera is very good. You will fall in love with the portrait mode. You can call me a loyal Apple customer or whatever but I won’t stop praising the products and overall experience. That user experience matters and is worth every penny you pay.\\n\\nBelow ar...\\nREAD MORE',\n",
       "  \"Again back to apple iphone after a gap of 2-3 years. It's pleasure to use iOS and the quality product by Apple. Iphone 11 still works like a beast in 2021 also. It really capable of doing day to day usage as well as hard core gaming. Battery is awesome. I'm really too much satisfied with it. Apart fto the very gorgious IPS LCD (AMOLED will be better) everything is mind boggling. Iphone💕.\",\n",
       "  'impressive super phone and best in class camera ,sound and face unlock is super fast just see and phone is unlock and fast in daily apps use',\n",
       "  'Super and marvellous phone look very cute and nice sound. I love this phone i think white is good colur.Excellent camer 5*😍😘♥️♥️',\n",
       "  'Well while switching from android to iOS the first thing you need to be careful about is that you will loose all your whatsapp chat backups as both are different operating systems. Camera clarity is awesome and though being an lcd screen clarity and resolution is good. Battery backup is also good unlike previous gen iPhone. So far the experience is good will Padre after a few months of usage.\\n\\nP.S the black is more of a dark grey shade and not jet black',\n",
       "  'Very excited to have this phone. This phone has the real power unlike the android phones having SD 855 . The battery life is very good and the camera quality is excellent as comapred to redmi and other phones except google pixel. I M enjoying every single bit of it. Would recommed only if you have the budget.',\n",
       "  'Best and amazing product.....phone looks so premium.... battary is also good as expected .... Wide angle camera is so addictive ...if you are a IOS lover....then this phone will be the best choice for you all!!💯🔥',\n",
       "  'Always love the apple products, upgraded from old iPhone 6S plus to this after having my first baby. I just love to click baby’s photos with it. Overall I just love this phone. Battery back up is okay, sound quality is good. Haven’t tested yet waterproof yet. Only one thing I hate is apple could have given charger & headphones in box.',\n",
       "  'Value for money\\n5 star rating\\nExcellent camera\\nBattery backup full day in single charge.\\n\\nTougher and water resistant design, glossy back.\\nThe screen has excellent brightness and contrast.\\nApple A13 Bionic is the fastest smartphone chip on the planet.\\nExcellent battery life, fast charging support.\\nStereo speakers with great quality.',\n",
       "  'Please DONT buy from here,\\n\\nI purchased Apple iPhone 11. with an exchange of IPhone 7, the exchange did not go well, iPhone 7 had a small scratch out side screen which i could never identify till date, but the FLIPKART person could, so he reduced 50% from exchange rate. I decided not to trade in, but paid money.\\n\\niPhone 11 Detail Below\\n---------------------------------------------\\nIt came with no charging, then i have put for charging, it took lot of time for charging, the phone also showe...\\nREAD MORE',\n",
       "  'Excellent',\n",
       "  'Value-for-money',\n",
       "  'Best in the market!',\n",
       "  'Awesome',\n",
       "  'Value-for-money',\n",
       "  'Worthless',\n",
       "  'Simply awesome',\n",
       "  'Wonderful',\n",
       "  'Terrific',\n",
       "  'Brilliant',\n",
       "  'Its a fabulous mobile look awesome performance unbeaten camera like dslr battery good i think this is a beast of mobile',\n",
       "  \"Just got this iphone 11\\nAnd it is most powerful mobile phone I have used ever\\n\\nSo,go for it if you want a phone with best specification like camera,battery backup,display, A13 bionic chip\\n\\nThat's my review about this phone but yours can be differ from me....\",\n",
       "  'Damn this phone is a blast . Upgraded from android to ios and is a duperb experience. Battery backup is top notch and display also pretty good',\n",
       "  'I dreamt about this day from a long time.... Getting an iPhone with my own money.... Super happy and worth spending every penny',\n",
       "  \"I'm Really happy with the product\\nDelivery was fast as well\\n..it was a gift for my sister and she loved it so much.\",\n",
       "  \"Phone is awesome no doubt. But Camera & Display is not great. Performance is mind blowing.\\nBut the phone is heating too much when charging or when you regularly used. It's experience after using 1 week. It's heating extrem when I play PUBG for 30 minutes.\\nGo for iPhone 11 pro or 12. Otherwise go for Android phone you will get much better phone in less price.\",\n",
       "  'Excellent camera, good performance, no lag. The lcd display is also good.. but difference come when we watch movie in prime and Netflix, the colours are not vibrant.. as we see in amoled display.. and the charger in box is of 5 watts.. takes more than 3 hours to charge from 0 to 100.. so guys be prepare to buy 18 watts charger . Finally I am an android user, it was my first Iapple phone, I promise u guys the iOS is so smooth.. overall the phone is damn good.... close eyes to buy it.. thanks t...\\nREAD MORE',\n",
       "  'This is my first ever I phone. Before this I was using my google nexus 5. But moving from android to iOS is a great experience. It’s worth at this price. I will highly recommend it if you want to move to iOS. The best part of this phone is it’s camera and it’s battery life. This two things have won my heart. I loved it. Happy to have it in my hand. Still exploring its features. And can’t forget to mention Flipkart service. Very prompt service and fast delivery.',\n",
       "  'Really worth of money. i just love it. It is the best phone ever.',\n",
       "  'Amazing phone and on great deal I received with super fast delivery by Flipkart...',\n",
       "  'Excellent',\n",
       "  'Mind-blowing purchase',\n",
       "  'Wonderful',\n",
       "  'Perfect product!',\n",
       "  'Classy product',\n",
       "  'Awesome',\n",
       "  'Just wow!',\n",
       "  'Perfect product!',\n",
       "  'Worth every penny',\n",
       "  'Fabulous!',\n",
       "  'Awesome...🤩😍😍',\n",
       "  'Best Quality Product OF iPhone Series , Sound Quality & Camera quality is very awesome, Battery Life is very Sufficient for 24 hr Backup With Full Internet Access , I love this this Product too much , It is very fast & making me Very fast in all my daily Routine\\nHighlights;\\n1.Camera: 5 STAR\\n2.Video Recording: 5 star\\n3.Night mODE sHOOTING & Camera:4 star\\n4. Audio Quality: Awesome\\n5. Battery : 5 Star\\n6. Touch:5 Star\\n7. Processor: Very Fast\\nThe M...\\nREAD MORE',\n",
       "  'Finally purchased iphone 11 instead of XR and its awesome decision',\n",
       "  'Battery backup is extraordinary, camera is decent & performance offered by A13 bionic is awsome. The display is good in practical usage like the visibility of display is very good in direct sun light compare to pro models. Iam extremely satisfied for the money I spent.',\n",
       "  'Superb Product !!!\\nA big and worthy upgrade from mi 3S to iphone 11 .\\nTotally loved it !',\n",
       "  'I am using this phone for 5 days and its one of the best camera out there ❤️ the screen is not oled and i am coming from iphone xs so its little bit not up to the mark i would say\\nBut overall value for money💕😍the battery back up is far better than my iphone xs and its worth in my apple ecosystem💫❤️if u are an apple User and have the eco system then go for it❤️though i will be getting the new iphone but its pretty good💫',\n",
       "  'Camera battery and it’s overall performance is good',\n",
       "  'Awesome purchase. Amazing phone with good battery backup. It’s a top notch device. White colour looks amazing. Phone has a few extra feature than iPhone XR. Overall, this is value for money',\n",
       "  'Here is the thing\\n\\nThe only reason why you should buy this phone is for the camera, iOS, and if you have headaches looking at AMOLED display.\\n\\nI’m not an avid gamer but watch a lot of movies on smartphone. However, my migraine attacks increased considerably after using AMOLED Smartphone. That’s why I made a calculated decision to buy iPhone 11. It has the best LCD display and the blacks, though not as natural as an AMOLED, is better than some of the other smartphones.\\n\\nAdding to this the ste...\\nREAD MORE',\n",
       "  'awesome phone to have. it has got many smart features apart from mind blowing looks, camera, display, battery and sound. have fallen in love with this phone. must buy phone if you have got enough money. thanks to flipkart and apple of course..',\n",
       "  'Must buy!',\n",
       "  'Good quality product',\n",
       "  'Super!',\n",
       "  'Classy product',\n",
       "  'Terrific purchase',\n",
       "  'Pretty good',\n",
       "  'Brilliant',\n",
       "  'Simply awesome',\n",
       "  'Fabulous!',\n",
       "  'Terrific purchase',\n",
       "  'It’s an amazing product from apple and the camera is simply superb. Phone is faster.Night shot is simply superb and detailing and colour differentiation from camera is an added advantage\\n\\nThis review I have written from iPhone 11 only and I am glad to say outside.\\n\\nCons wise if we see HD+ display only, no battery percentage indicator as in older iPhone 8.\\nNo assistive touch control button in it\\nNo oleophobic coating on back panel glass and finger prints are visible but since I bought mint gr...\\nREAD MORE',\n",
       "  \"I'm switching this phone to oppo reno 10x zoom\\nIt's really impressive\\nRarely I'm missing smooth display touch response like oppo reno but\\nI really loved it.\\nCamera really impressive\",\n",
       "  'Did an upgrade from 6s plus to iphone 11.\\nAo far the experience is well and good. Felt smoother than 6s plus. The camera quality is superb. Battery backup is descent. Not a heavy user, and gets power more than a day. Go for it if you need an alrounder iphone in a competitve price.',\n",
       "  'We are on apple ecosystem for almost eight years now with couple of iPads and iPhones, including Xr.\\n\\nBought iPhone 11 as a gift to my daughter who loves it. We chose for a purple coloured one. Believe me it is gorgeous and towards the lighter shade. Dazzling and brilliant!\\n\\nThe phone is great and does excellent RAM management like any other Apple device.\\n\\nThe screen, though a LCD and lesser ppi as compared to other flagship phones of competitor brands, is a delight to watch with perfect re...\\nREAD MORE',\n",
       "  'Upgraded from iphone 6 to 11 best phone for iphone users battery is much better than other iphones camera is awesome love to use it.camera is so clear in night.',\n",
       "  'I was using Iphone 6s and also Oneplus 6t. Both mobiles were perfectly alright in Photos, gaming, and smooth interface . My 6s mobile getting battery issue. thought upgrade to 11. Really like this mobile of its Internal storage (compare to 6s) , camera and its touch feeling. Its a worth buying mobile for me.',\n",
       "  'Excellent camera and display touching very nice and smooth very improvement against iPhone XR and new processor is very fast',\n",
       "  \"It's very high performances devise i am like the service of flipkart delevary very fast and packing very nice perfect phone\",\n",
       "  \"I can say I'm damn impressed with iPhone 11. As they says iPhone 11 have the toughest glass ever in the smartphone which you'll find on the front and back and it's totally smooth. The fit and finish is full apple quality - there's no sense that any cheaping out has happened in the construction. Without saying it's camera features this review won't complete. The iPhone 11 has a dual camera system, consisting of a wide angle len's that's pretty much same as found on the iPhone XR last year, but...\\nREAD MORE\",\n",
       "  'No word to say ..simply Awesome. Love it😘😘😘😘',\n",
       "  'Just wow!',\n",
       "  'Absolute rubbish!',\n",
       "  'Great product',\n",
       "  'Excellent',\n",
       "  'Worthless',\n",
       "  'Mind-blowing purchase',\n",
       "  'Mind-blowing purchase',\n",
       "  'Super!',\n",
       "  'Best in the market!',\n",
       "  'Excellent',\n",
       "  'Best in class. Battery backup is good especially when you play games like Pubg COD. But it is sort of heavy when you hold in hands. Portrait mode is best to click pictures. Stage light effect is awesome. Try to click photos outside in nature because photos inside home or room will not give you the quality in any phone even in DSLR.',\n",
       "  'Products damage',\n",
       "  'Well you all know the specifications . One of a kind. Best iPhone till date. Many enhancements to the camera app with many options. Love the glass body with matte finish in the lens area on the back. Lovely colours to choose from. Best battery in an iPhone till date, enough to last more than a day in normal usage. I tested my iPhone 11 battery and lasted for than 24 hours after full charge still with 30% battery charge left. Watched movies for some time. Normal usage on calls, browsing, musi...\\nREAD MORE',\n",
       "  'A perfect phone and a good battery super camera and the sound is dynamic overall the phone is perfect for upgrading from lower iPhone model to iPhone 11',\n",
       "  'New Phone worked for 2 weeks. After it gone dead without any reason and unfortunately lockdown hence at repair center for last 2 weeks. There were a exchange offer for old phone but they deducted amount saying one scratch on edge of old phone, infact any phone if u use for 1 month, if u use ring on ur finger it will come. It was not at all visible. The display, battery, performance for the old phone was perfect, still they deducted. With this experience i suggest you to buy phones from author...\\nREAD MORE',\n",
       "  'First thanks to Flipkart for this amazing deal and phone is outstanding. I upgraded from iPhone 7 and this is like very big upgrade. But the packaging was very basic I expected a good packaging as they only wrapped one layer of bubble wrap which I don’t think is enough to protect this expensive phone. And I recommend this phone and seller as well.\\n\\nAnd I’m posting this review after using it for 4 days.',\n",
       "  'This will help you more. See if you are planning to buy iPhone 11. I will say. Yes. But there are some plans I just want to disclose before you buy. 1) If you are an existing iPhone X/XS/XS Max/ XR user, better you guys do not think it to buy. You guys have more or less better gadget. 2) If you are an android user and planning to buy premium phone. I will suggest them to please buy iPhone instead of buying an Android. I bet you will never go back to android after using IOS. Now I want to shar...\\nREAD MORE',\n",
       "  'This is my first ever iPhone.\\nAnd I truly don’t regret switching to IOS from my Android.\\n\\nIt is easily an alternative to a DSLR camera.\\nIf you’re obsessed with photos and videos, just don’t think twice or don’t compare to other androids(Samsung S10 lite or OnePlus 8/8T), as it’s far better from them in every field.\\nComparing will only make you confused.\\n\\nI am getting an average Screen on Time of around 10 hours with 30 percent left. I haven’t let my device discharged below 30 % as it aff...\\nREAD MORE',\n",
       "  \"The best all rounder iphone. Flipkart is doing a great job. They're delivery services are blazing fast. I got delivery on the same day. Genuine Apple Product. Working great. Talking about review There's no need of review for iphones. They're simply the best.\",\n",
       "  'Amazing camera and feel super machine I am not describe my feeling but this is amazing Phone I am so lucky I have this',\n",
       "  'Wonderful',\n",
       "  'Awesome',\n",
       "  'Perfect product!',\n",
       "  'Terrific purchase',\n",
       "  'Does the job',\n",
       "  'Just wow!',\n",
       "  'Terrific purchase',\n",
       "  'Worth every penny',\n",
       "  'Great product',\n",
       "  'Mind-blowing purchase',\n",
       "  'Superfast delivery by Flipkart. Thanks.\\n\\n1. iPhone 11 is a pretty solid phone for the money you are paying.\\n2. All the bad reviews about the display is confusing. It’s not that bad.\\n3. I switched from a Oneplus 7t. I have no complaints about the display quality of iPhone. Yes, it’s not OLED, so, we are missing on the deep blacks. But that’s it. It is a very colour accurate display. Gets adequately bright and I could not find any pixelation.\\n4. Performance is one of the best, if not best, in ...\\nREAD MORE',\n",
       "  'Can’t beat the software and hardware integration of apple.\\nPerforms like a beast. Great quality camera\\n6-7 hours screen on time which is good. Nothing much to complaint about the screen. Good connectivity speeds.\\nGreat buy and Flipkart’s delivery top notch as usual',\n",
       "  'Worth the money’ starting first from its performance it beats out all phones , second the smoothness of camera is awesome, contrast ratio is much than expected. Price will not matter if u r a quality person, if not other phones are available with better discount',\n",
       "  'Its Very awesome product working and good camera quality and all about best product and also flipkart is very great deal and offer nice price',\n",
       "  \"phone is good but in display is 720p lcd in this price range we can get full hd OLED displays with higher refresh rate processor is very good camera is nice but looks kind of oldish in front of todays phone also there's no charging in box had to buy it seperately\",\n",
       "  'Great iphone.\\nI am writing this review after 2 months of usage.\\nCamera is excellent, especially the nightmode\\nDisplay perfect\\nBattery backup awesome\\nSound quality very good\\nOverall Apple gives you a perfect iphone in this range.\\nReally in love with iPhone 11',\n",
       "  'finally an iPhone with very nice battery backup. update from iPhone 7 and happy to have it. camera is not up to the mark in low light but overall a recommended phone if your budget allows 😀',\n",
       "  'iPhone is delivered on time. Display is great u won’t feel that it’s a hd panel. Quality is excellent. Sounds is great it has stereo setup. Camera is good. iOS 14.2 comes in the box. U roughly get 113 gb free if u buy 128 gb. This is my second iPhone and i love it. Value for money.',\n",
       "  'my 1st iphone,iphone 11 and xr also good in that price u can choose between this two phones.. am talking about frount camera it’s too good compared to androids phone',\n",
       "  'beautiful shining, battery performance is too good.\\nonly the draw back is my expectations not meeted front cam but back cam is superb.',\n",
       "  'Highly recommended',\n",
       "  'Excellent',\n",
       "  'Fabulous!',\n",
       "  'Waste of money!',\n",
       "  'Terrific',\n",
       "  'Highly recommended',\n",
       "  'Must buy!',\n",
       "  'Must buy!',\n",
       "  'Excellent',\n",
       "  'Just wow!']]"
      ]
     },
     "execution_count": 696,
     "metadata": {},
     "output_type": "execute_result"
    }
   ],
   "source": [
    "Review"
   ]
  },
  {
   "cell_type": "code",
   "execution_count": 627,
   "id": "2ed30978",
   "metadata": {},
   "outputs": [
    {
     "data": {
      "text/plain": [
       "10"
      ]
     },
     "execution_count": 627,
     "metadata": {},
     "output_type": "execute_result"
    }
   ],
   "source": [
    "full_review1 = driver.find_elements_by_xpath('//div[@class=\"t-ZTKy\"]')\n",
    "len(full_review1)"
   ]
  },
  {
   "cell_type": "code",
   "execution_count": 634,
   "id": "282d9b04",
   "metadata": {},
   "outputs": [],
   "source": [
    "full_review2 = driver.find_elements_by_xpath('//div[@class=\"t-ZTKy\"]')"
   ]
  },
  {
   "cell_type": "code",
   "execution_count": 642,
   "id": "ba4d13e4",
   "metadata": {},
   "outputs": [],
   "source": [
    "full_review3 = driver.find_elements_by_xpath('//div[@class=\"t-ZTKy\"]')"
   ]
  },
  {
   "cell_type": "code",
   "execution_count": 649,
   "id": "d909a2c5",
   "metadata": {},
   "outputs": [],
   "source": [
    "full_review4 = driver.find_elements_by_xpath('//div[@class=\"t-ZTKy\"]')"
   ]
  },
  {
   "cell_type": "code",
   "execution_count": 658,
   "id": "85011969",
   "metadata": {},
   "outputs": [],
   "source": [
    "full_review5 = driver.find_elements_by_xpath('//div[@class=\"t-ZTKy\"]')"
   ]
  },
  {
   "cell_type": "code",
   "execution_count": 665,
   "id": "35e2074b",
   "metadata": {},
   "outputs": [],
   "source": [
    "full_review6 = driver.find_elements_by_xpath('//div[@class=\"t-ZTKy\"]')"
   ]
  },
  {
   "cell_type": "code",
   "execution_count": 672,
   "id": "dda5b0da",
   "metadata": {},
   "outputs": [],
   "source": [
    "full_review7 = driver.find_elements_by_xpath('//div[@class=\"t-ZTKy\"]')"
   ]
  },
  {
   "cell_type": "code",
   "execution_count": 680,
   "id": "5200bed5",
   "metadata": {},
   "outputs": [],
   "source": [
    "full_review8 = driver.find_elements_by_xpath('//div[@class=\"t-ZTKy\"]')"
   ]
  },
  {
   "cell_type": "code",
   "execution_count": 688,
   "id": "412e4491",
   "metadata": {},
   "outputs": [],
   "source": [
    "full_review9 = driver.find_elements_by_xpath('//div[@class=\"t-ZTKy\"]')"
   ]
  },
  {
   "cell_type": "code",
   "execution_count": 708,
   "id": "53e2713f",
   "metadata": {},
   "outputs": [],
   "source": [
    "full_review10 = driver.find_elements_by_xpath('/html/body/div/div/div[3]/div/div/div[2]/div[3]/div/div/div/div[2]/div/div')"
   ]
  },
  {
   "cell_type": "code",
   "execution_count": 628,
   "id": "38e24b29",
   "metadata": {},
   "outputs": [],
   "source": [
    "Full_Review1 = []\n",
    "\n",
    "for i in full_review1:\n",
    "        Review1.append(i.text)"
   ]
  },
  {
   "cell_type": "code",
   "execution_count": 635,
   "id": "9cefa33b",
   "metadata": {},
   "outputs": [],
   "source": [
    "Full_Review2 = []\n",
    "\n",
    "for i in full_review2:\n",
    "        Review1.append(i.text)"
   ]
  },
  {
   "cell_type": "code",
   "execution_count": 643,
   "id": "7f1fba49",
   "metadata": {},
   "outputs": [],
   "source": [
    "Full_Review3 = []\n",
    "\n",
    "for i in full_review3:\n",
    "        Review1.append(i.text)"
   ]
  },
  {
   "cell_type": "code",
   "execution_count": 650,
   "id": "d05402a1",
   "metadata": {},
   "outputs": [],
   "source": [
    "Full_Review4 = []\n",
    "\n",
    "for i in full_review4:\n",
    "        Review1.append(i.text)"
   ]
  },
  {
   "cell_type": "code",
   "execution_count": 659,
   "id": "7d1383bb",
   "metadata": {},
   "outputs": [],
   "source": [
    "Full_Review5 = []\n",
    "\n",
    "for i in full_review5:\n",
    "        Review1.append(i.text)"
   ]
  },
  {
   "cell_type": "code",
   "execution_count": 666,
   "id": "3607790e",
   "metadata": {},
   "outputs": [],
   "source": [
    "Full_Review6 = []\n",
    "\n",
    "for i in full_review6:\n",
    "        Review1.append(i.text)"
   ]
  },
  {
   "cell_type": "code",
   "execution_count": 674,
   "id": "824c666d",
   "metadata": {},
   "outputs": [],
   "source": [
    "Full_Review7 = []\n",
    "\n",
    "for i in full_review7:\n",
    "        Review1.append(i.text)"
   ]
  },
  {
   "cell_type": "code",
   "execution_count": 682,
   "id": "5aebfb32",
   "metadata": {},
   "outputs": [],
   "source": [
    "Full_Review8 = []\n",
    "\n",
    "for i in full_review8:\n",
    "        Review1.append(i.text)"
   ]
  },
  {
   "cell_type": "code",
   "execution_count": 689,
   "id": "a33d9e9a",
   "metadata": {},
   "outputs": [],
   "source": [
    "Full_Review9 = []\n",
    "\n",
    "for i in full_review9:\n",
    "        Review1.append(i.text)"
   ]
  },
  {
   "cell_type": "code",
   "execution_count": 713,
   "id": "2d641b61",
   "metadata": {},
   "outputs": [
    {
     "data": {
      "text/plain": [
       "[]"
      ]
     },
     "execution_count": 713,
     "metadata": {},
     "output_type": "execute_result"
    }
   ],
   "source": [
    "Full_Review10 = []\n",
    "\n",
    "for i in full_review10:\n",
    "        Review1.append(i.text)"
   ]
  },
  {
   "cell_type": "code",
   "execution_count": 710,
   "id": "a2c9b3c6",
   "metadata": {},
   "outputs": [],
   "source": [
    "Full_Review = [Full_Review1 + Full_Review2 + Full_Review3 + Full_Review4 + Full_Review5 + Full_Review6 + Full_Review7 + Full_Review8 + Full_Review9 + Full_Review10]"
   ]
  },
  {
   "cell_type": "code",
   "execution_count": 711,
   "id": "5f38f7e1",
   "metadata": {},
   "outputs": [
    {
     "data": {
      "text/plain": [
       "[[]]"
      ]
     },
     "execution_count": 711,
     "metadata": {},
     "output_type": "execute_result"
    }
   ],
   "source": [
    "Full_Review"
   ]
  },
  {
   "cell_type": "code",
   "execution_count": 714,
   "id": "cb38fe11",
   "metadata": {},
   "outputs": [],
   "source": [
    "driver = webdriver.Chrome(r'C:\\Users\\Jitender\\Downloads\\chromedriver_win32\\chromedriver.exe')"
   ]
  },
  {
   "cell_type": "code",
   "execution_count": 715,
   "id": "791dccbc",
   "metadata": {},
   "outputs": [],
   "source": [
    "url = 'https://www.flipkart.com/'\n",
    "driver.get(url)"
   ]
  },
  {
   "cell_type": "code",
   "execution_count": 716,
   "id": "4b4e69a7",
   "metadata": {},
   "outputs": [],
   "source": [
    "search_product = driver.find_element_by_xpath ('/html/body/div[1]/div/div[1]/div[1]/div[2]/div[2]/form/div/div/input')"
   ]
  },
  {
   "cell_type": "code",
   "execution_count": 717,
   "id": "979dd82c",
   "metadata": {},
   "outputs": [],
   "source": [
    "search_product.send_keys(\"sneakers\")"
   ]
  },
  {
   "cell_type": "code",
   "execution_count": 718,
   "id": "04e3d095",
   "metadata": {},
   "outputs": [],
   "source": [
    "searche_btn = driver.find_element_by_xpath('/html/body/div[1]/div/div[1]/div[1]/div[2]/div[2]/form/div/button')"
   ]
  },
  {
   "cell_type": "code",
   "execution_count": 719,
   "id": "e0e38221",
   "metadata": {},
   "outputs": [],
   "source": [
    "searche_btn.click()"
   ]
  },
  {
   "cell_type": "code",
   "execution_count": 729,
   "id": "0fc0d29c",
   "metadata": {},
   "outputs": [
    {
     "data": {
      "text/plain": [
       "40"
      ]
     },
     "execution_count": 729,
     "metadata": {},
     "output_type": "execute_result"
    }
   ],
   "source": [
    "brand_tag1 = driver.find_elements_by_xpath('//div[@class=\"_2WkVRV\"]')\n",
    "len(brand_tag)"
   ]
  },
  {
   "cell_type": "code",
   "execution_count": 730,
   "id": "5b83b6ff",
   "metadata": {},
   "outputs": [
    {
     "data": {
      "text/plain": [
       "40"
      ]
     },
     "execution_count": 730,
     "metadata": {},
     "output_type": "execute_result"
    }
   ],
   "source": [
    "Brand1 = []\n",
    "\n",
    "for i in brand_tag1:\n",
    "    Brand1.append(i.text)\n",
    "len(Brand1)"
   ]
  },
  {
   "cell_type": "code",
   "execution_count": 731,
   "id": "c194af94",
   "metadata": {},
   "outputs": [
    {
     "data": {
      "text/plain": [
       "['BRUTON',\n",
       " 'AERAMBOL',\n",
       " 'BRUTON',\n",
       " 'Elevarse',\n",
       " 'BRUTON',\n",
       " 'corsac',\n",
       " 'BRUTON',\n",
       " 'HOTSTYLE',\n",
       " 'World Wear Footwear',\n",
       " 'URBANBOX',\n",
       " 'Labbin',\n",
       " 'luxury fashion',\n",
       " 'DUNKASTON',\n",
       " 'Trendmode',\n",
       " 'RapidBox',\n",
       " 'India hub',\n",
       " 'SCATCHITE',\n",
       " 'D-SNEAKERZ',\n",
       " 'Chevit',\n",
       " 'PEHANOSA',\n",
       " 'Shoes Bank',\n",
       " 'luxury fashion',\n",
       " 'ASTEROID',\n",
       " 'Furo',\n",
       " 'Noztile',\n",
       " 'World Wear Footwear',\n",
       " 'CLYMB',\n",
       " 'luxury fashion',\n",
       " 'Rzisbo',\n",
       " 'RapidBox',\n",
       " 'Numenzo',\n",
       " 'Echor',\n",
       " 'aadi',\n",
       " 'Xtoon',\n",
       " 'BRUTON',\n",
       " \"Neeman's\",\n",
       " 'bluemaker',\n",
       " 'HOTSTYLE',\n",
       " 'BIRDE',\n",
       " 'ASIAN']"
      ]
     },
     "execution_count": 731,
     "metadata": {},
     "output_type": "execute_result"
    }
   ],
   "source": [
    "Brand1"
   ]
  },
  {
   "cell_type": "code",
   "execution_count": 774,
   "id": "f672e55f",
   "metadata": {},
   "outputs": [
    {
     "data": {
      "text/plain": [
       "40"
      ]
     },
     "execution_count": 774,
     "metadata": {},
     "output_type": "execute_result"
    }
   ],
   "source": [
    "brand_tag2 = driver.find_elements_by_xpath('//div[@class=\"_2WkVRV\"]')\n",
    "len(brand_tag2)"
   ]
  },
  {
   "cell_type": "code",
   "execution_count": 734,
   "id": "a66ac440",
   "metadata": {},
   "outputs": [
    {
     "data": {
      "text/plain": [
       "40"
      ]
     },
     "execution_count": 734,
     "metadata": {},
     "output_type": "execute_result"
    }
   ],
   "source": [
    "Brand2 = []\n",
    "\n",
    "for i in brand_tag2:\n",
    "    Brand2.append(i.text)\n",
    "len(Brand2)"
   ]
  },
  {
   "cell_type": "code",
   "execution_count": 735,
   "id": "e5725a88",
   "metadata": {},
   "outputs": [
    {
     "data": {
      "text/plain": [
       "['BIRDE',\n",
       " 'CLYMB',\n",
       " 'World Wear Footwear',\n",
       " 'Kuchiki',\n",
       " 'BRUTON',\n",
       " 'Kraasa',\n",
       " 'URBANBOX',\n",
       " 'BRUTON',\n",
       " 'Chevit',\n",
       " 'Kraasa',\n",
       " 'BRUTON',\n",
       " 'AERAMBOL',\n",
       " 'aadi',\n",
       " 'World Wear Footwear',\n",
       " 'Echor',\n",
       " 'HOTSTYLE',\n",
       " 'Zsyto',\n",
       " 'DRESTA',\n",
       " 'RODDICK SHOES',\n",
       " 'luxury fashion',\n",
       " 'ASTEROID',\n",
       " 'Chevit',\n",
       " 'SPARX',\n",
       " 'India hub',\n",
       " 'Robbie jones',\n",
       " 'aadi',\n",
       " 'ASIAN',\n",
       " 'Airland',\n",
       " 'Trendmode',\n",
       " 'Robbie jones',\n",
       " 'Stefano Rads',\n",
       " 'PEHANOSA',\n",
       " 'Echor',\n",
       " 'Vellinto',\n",
       " 'RODDICK SHOES',\n",
       " 'Furo',\n",
       " 'D-SNEAKERZ',\n",
       " 'LE GREEM',\n",
       " 'Numenzo',\n",
       " 'Echor']"
      ]
     },
     "execution_count": 735,
     "metadata": {},
     "output_type": "execute_result"
    }
   ],
   "source": [
    "Brand2"
   ]
  },
  {
   "cell_type": "code",
   "execution_count": 738,
   "id": "a3f01731",
   "metadata": {},
   "outputs": [
    {
     "data": {
      "text/plain": [
       "40"
      ]
     },
     "execution_count": 738,
     "metadata": {},
     "output_type": "execute_result"
    }
   ],
   "source": [
    "brand_tag3 = driver.find_elements_by_xpath('//div[@class=\"_2WkVRV\"]')\n",
    "len(brand_tag3)"
   ]
  },
  {
   "cell_type": "code",
   "execution_count": 739,
   "id": "ded2d034",
   "metadata": {},
   "outputs": [
    {
     "data": {
      "text/plain": [
       "40"
      ]
     },
     "execution_count": 739,
     "metadata": {},
     "output_type": "execute_result"
    }
   ],
   "source": [
    "Brand3 = []\n",
    "\n",
    "for i in brand_tag3:\n",
    "    Brand3.append(i.text)\n",
    "len(Brand3)"
   ]
  },
  {
   "cell_type": "code",
   "execution_count": 740,
   "id": "3395660f",
   "metadata": {},
   "outputs": [
    {
     "data": {
      "text/plain": [
       "['PUMA',\n",
       " 'RapidBox',\n",
       " 'RODDICK SHOES',\n",
       " 'Kuchiki',\n",
       " 'Ktiz',\n",
       " 'KNIGHT WALKERS',\n",
       " 'aadi',\n",
       " 'luxury fashion',\n",
       " 'ESSENCE',\n",
       " 'Chevit',\n",
       " 'Chevit',\n",
       " 'India hub',\n",
       " 'WHITE WALKERS',\n",
       " 'Zorth',\n",
       " 'T-ROCK',\n",
       " \"Neeman's\",\n",
       " 'BIRDE',\n",
       " 'BRUTON',\n",
       " 'Magnolia',\n",
       " \"Neeman's\",\n",
       " 'Zorth',\n",
       " 'Kraasa',\n",
       " 'Echor',\n",
       " 'CUNIO',\n",
       " \"K' Footlance\",\n",
       " 'Arohi',\n",
       " 'Hot & Knot',\n",
       " 'RODDICK SHOES',\n",
       " 'RANZAG',\n",
       " 'AMICO',\n",
       " 'BIRDE',\n",
       " \"Neeman's\",\n",
       " 'WELDONE',\n",
       " 'LE GREEM',\n",
       " 'PUMA',\n",
       " 'Viv',\n",
       " 'HRX by Hrithik Roshan',\n",
       " 'NIKE',\n",
       " 'bluemaker',\n",
       " 'Castoes']"
      ]
     },
     "execution_count": 740,
     "metadata": {},
     "output_type": "execute_result"
    }
   ],
   "source": [
    "Brand3"
   ]
  },
  {
   "cell_type": "code",
   "execution_count": 741,
   "id": "ae6e6cdc",
   "metadata": {},
   "outputs": [],
   "source": [
    "Brand = [Brand1 + Brand2 + Brand3]"
   ]
  },
  {
   "cell_type": "code",
   "execution_count": 743,
   "id": "7427fbe7",
   "metadata": {},
   "outputs": [
    {
     "data": {
      "text/plain": [
       "[['BRUTON',\n",
       "  'AERAMBOL',\n",
       "  'BRUTON',\n",
       "  'Elevarse',\n",
       "  'BRUTON',\n",
       "  'corsac',\n",
       "  'BRUTON',\n",
       "  'HOTSTYLE',\n",
       "  'World Wear Footwear',\n",
       "  'URBANBOX',\n",
       "  'Labbin',\n",
       "  'luxury fashion',\n",
       "  'DUNKASTON',\n",
       "  'Trendmode',\n",
       "  'RapidBox',\n",
       "  'India hub',\n",
       "  'SCATCHITE',\n",
       "  'D-SNEAKERZ',\n",
       "  'Chevit',\n",
       "  'PEHANOSA',\n",
       "  'Shoes Bank',\n",
       "  'luxury fashion',\n",
       "  'ASTEROID',\n",
       "  'Furo',\n",
       "  'Noztile',\n",
       "  'World Wear Footwear',\n",
       "  'CLYMB',\n",
       "  'luxury fashion',\n",
       "  'Rzisbo',\n",
       "  'RapidBox',\n",
       "  'Numenzo',\n",
       "  'Echor',\n",
       "  'aadi',\n",
       "  'Xtoon',\n",
       "  'BRUTON',\n",
       "  \"Neeman's\",\n",
       "  'bluemaker',\n",
       "  'HOTSTYLE',\n",
       "  'BIRDE',\n",
       "  'ASIAN',\n",
       "  'BIRDE',\n",
       "  'CLYMB',\n",
       "  'World Wear Footwear',\n",
       "  'Kuchiki',\n",
       "  'BRUTON',\n",
       "  'Kraasa',\n",
       "  'URBANBOX',\n",
       "  'BRUTON',\n",
       "  'Chevit',\n",
       "  'Kraasa',\n",
       "  'BRUTON',\n",
       "  'AERAMBOL',\n",
       "  'aadi',\n",
       "  'World Wear Footwear',\n",
       "  'Echor',\n",
       "  'HOTSTYLE',\n",
       "  'Zsyto',\n",
       "  'DRESTA',\n",
       "  'RODDICK SHOES',\n",
       "  'luxury fashion',\n",
       "  'ASTEROID',\n",
       "  'Chevit',\n",
       "  'SPARX',\n",
       "  'India hub',\n",
       "  'Robbie jones',\n",
       "  'aadi',\n",
       "  'ASIAN',\n",
       "  'Airland',\n",
       "  'Trendmode',\n",
       "  'Robbie jones',\n",
       "  'Stefano Rads',\n",
       "  'PEHANOSA',\n",
       "  'Echor',\n",
       "  'Vellinto',\n",
       "  'RODDICK SHOES',\n",
       "  'Furo',\n",
       "  'D-SNEAKERZ',\n",
       "  'LE GREEM',\n",
       "  'Numenzo',\n",
       "  'Echor',\n",
       "  'PUMA',\n",
       "  'RapidBox',\n",
       "  'RODDICK SHOES',\n",
       "  'Kuchiki',\n",
       "  'Ktiz',\n",
       "  'KNIGHT WALKERS',\n",
       "  'aadi',\n",
       "  'luxury fashion',\n",
       "  'ESSENCE',\n",
       "  'Chevit',\n",
       "  'Chevit',\n",
       "  'India hub',\n",
       "  'WHITE WALKERS',\n",
       "  'Zorth',\n",
       "  'T-ROCK',\n",
       "  \"Neeman's\",\n",
       "  'BIRDE',\n",
       "  'BRUTON',\n",
       "  'Magnolia',\n",
       "  \"Neeman's\",\n",
       "  'Zorth',\n",
       "  'Kraasa',\n",
       "  'Echor',\n",
       "  'CUNIO',\n",
       "  \"K' Footlance\",\n",
       "  'Arohi',\n",
       "  'Hot & Knot',\n",
       "  'RODDICK SHOES',\n",
       "  'RANZAG',\n",
       "  'AMICO',\n",
       "  'BIRDE',\n",
       "  \"Neeman's\",\n",
       "  'WELDONE',\n",
       "  'LE GREEM',\n",
       "  'PUMA',\n",
       "  'Viv',\n",
       "  'HRX by Hrithik Roshan',\n",
       "  'NIKE',\n",
       "  'bluemaker',\n",
       "  'Castoes']]"
      ]
     },
     "execution_count": 743,
     "metadata": {},
     "output_type": "execute_result"
    }
   ],
   "source": [
    "Brand[:100]"
   ]
  },
  {
   "cell_type": "code",
   "execution_count": 770,
   "id": "4477c057",
   "metadata": {},
   "outputs": [
    {
     "data": {
      "text/plain": [
       "40"
      ]
     },
     "execution_count": 770,
     "metadata": {},
     "output_type": "execute_result"
    }
   ],
   "source": [
    "des_tag1 = driver.find_elements_by_xpath('//a[@class=\"IRpwTa\"]')\n",
    "len(des_tag)"
   ]
  },
  {
   "cell_type": "code",
   "execution_count": 771,
   "id": "5b7cae79",
   "metadata": {},
   "outputs": [
    {
     "data": {
      "text/plain": [
       "31"
      ]
     },
     "execution_count": 771,
     "metadata": {},
     "output_type": "execute_result"
    }
   ],
   "source": [
    "product_description1 = []\n",
    "\n",
    "for i in des_tag1:\n",
    "    product_description1.append(i.text)\n",
    "len(product_description1)"
   ]
  },
  {
   "cell_type": "code",
   "execution_count": 772,
   "id": "949f9cc1",
   "metadata": {},
   "outputs": [
    {
     "data": {
      "text/plain": [
       "['Modern Trendy Sneakers Shoes Sneakers For Men',\n",
       " 'STYLISH MENS BLACK AND WHITE SNEAKER Sneakers For Men',\n",
       " 'Combo Pack Of 4 Casual Shoes Loafer Shoes Sneakers For ...',\n",
       " 'Combo Pack Of 2 Latest Stylish Casual Shoes for Men Lac...',\n",
       " 'Sneaker for men Sneakers For Men',\n",
       " '5011-Latest Collection Stylish Casual Loafer Sneakers S...',\n",
       " 'Sneakers For Men',\n",
       " 'Sneakers For Men',\n",
       " 'Sneakers Sneakers For Men',\n",
       " \"Casual , Partywear Sneakers Shoes For Men's And Boys Wh...\",\n",
       " 'Super Stylish & Trendy Combo Pack of 02 Pairs Sneakers ...',\n",
       " 'Sneakers For Men',\n",
       " \"White Sneaker For Men's/Boy's Sneakers For Men\",\n",
       " 'Luxury Fashionable casual sneaker shoes Sneakers For Me...',\n",
       " \"Original Luxury Branded Fashionable Men's Casual Walkin...\",\n",
       " 'Sneakers For Men',\n",
       " 'Sneakers For Men',\n",
       " 'Sneakers For Men',\n",
       " 'Sneakers For Men',\n",
       " 'Sneakers For Men',\n",
       " 'Sneakers For Men',\n",
       " '411 Casual Sneakers For Men',\n",
       " 'Sneakers For Men',\n",
       " 'Sneakers For Men',\n",
       " 'Sports Running Shoes Sneakers For Men',\n",
       " \"white Casual shoes,Sneakers for men's Sneakers For Men\",\n",
       " 'Sneakers For Men',\n",
       " 'Lattest Sneakers Shoe Sneakers For Men',\n",
       " 'casual for men Sneakers For Men',\n",
       " 'Sneakers For Men',\n",
       " 'Fashion and Stylish Designer shoes Sneakers For Men (Bl...']"
      ]
     },
     "execution_count": 772,
     "metadata": {},
     "output_type": "execute_result"
    }
   ],
   "source": [
    "product_description1"
   ]
  },
  {
   "cell_type": "code",
   "execution_count": 788,
   "id": "d8848753",
   "metadata": {},
   "outputs": [
    {
     "data": {
      "text/plain": [
       "40"
      ]
     },
     "execution_count": 788,
     "metadata": {},
     "output_type": "execute_result"
    }
   ],
   "source": [
    "des_tag1 = driver.find_elements_by_xpath('//a[]')\n",
    "len(des_tag)"
   ]
  },
  {
   "cell_type": "code",
   "execution_count": 789,
   "id": "05e851ad",
   "metadata": {},
   "outputs": [
    {
     "data": {
      "text/plain": [
       "32"
      ]
     },
     "execution_count": 789,
     "metadata": {},
     "output_type": "execute_result"
    }
   ],
   "source": [
    "product_description1 = []\n",
    "\n",
    "for i in des_tag1:\n",
    "    product_description1.append(i.text)\n",
    "len(product_description1)"
   ]
  },
  {
   "cell_type": "code",
   "execution_count": 804,
   "id": "5d2bd137",
   "metadata": {},
   "outputs": [],
   "source": [
    "driver = webdriver.Chrome(r'C:\\Users\\Jitender\\Downloads\\chromedriver_win32\\chromedriver.exe')"
   ]
  },
  {
   "cell_type": "code",
   "execution_count": 806,
   "id": "bb8a3215",
   "metadata": {},
   "outputs": [],
   "source": [
    "url = 'http://www.ambitionbox.com/'\n",
    "driver.get(url)"
   ]
  },
  {
   "cell_type": "code",
   "execution_count": 830,
   "id": "99a8a950",
   "metadata": {},
   "outputs": [],
   "source": [
    "search_salries = driver.find_element_by_xpath('//a[@href=\"/salaries\"]')"
   ]
  },
  {
   "cell_type": "code",
   "execution_count": 831,
   "id": "244cfbde",
   "metadata": {},
   "outputs": [],
   "source": [
    "search_salries.click()"
   ]
  },
  {
   "cell_type": "code",
   "execution_count": 859,
   "id": "1cba6e7f",
   "metadata": {},
   "outputs": [],
   "source": [
    "search_box = driver.find_element_by_xpath('/html/body/div/div/div/main/section[1]/div[2]/div[1]/span/input')"
   ]
  },
  {
   "cell_type": "code",
   "execution_count": 860,
   "id": "cc142f09",
   "metadata": {},
   "outputs": [],
   "source": [
    "search_box.send_keys(\"Data Scientist\")"
   ]
  },
  {
   "cell_type": "code",
   "execution_count": 868,
   "id": "1d771c16",
   "metadata": {},
   "outputs": [
    {
     "data": {
      "text/plain": [
       "10"
      ]
     },
     "execution_count": 868,
     "metadata": {},
     "output_type": "execute_result"
    }
   ],
   "source": [
    "com_tag = driver.find_elements_by_xpath('//a[@data-v-2bae05f7]')\n",
    "len(com_tag)"
   ]
  },
  {
   "cell_type": "code",
   "execution_count": 870,
   "id": "b726771c",
   "metadata": {},
   "outputs": [
    {
     "data": {
      "text/plain": [
       "10"
      ]
     },
     "execution_count": 870,
     "metadata": {},
     "output_type": "execute_result"
    }
   ],
   "source": [
    "Company_Name = []\n",
    "\n",
    "for i in com_tag:\n",
    "    Company_Name.append(i.text)\n",
    "len(Company_Name)"
   ]
  },
  {
   "cell_type": "code",
   "execution_count": 871,
   "id": "4f2c1c82",
   "metadata": {},
   "outputs": [
    {
     "data": {
      "text/plain": [
       "['Walmart',\n",
       " 'Ab Inbev',\n",
       " 'ZS',\n",
       " 'Optum',\n",
       " 'Fractal Analytics',\n",
       " 'Tiger Analytics',\n",
       " 'UnitedHealth',\n",
       " 'Verizon',\n",
       " 'Ganit Business Solutions',\n",
       " 'Ericsson']"
      ]
     },
     "execution_count": 871,
     "metadata": {},
     "output_type": "execute_result"
    }
   ],
   "source": [
    "Company_Name"
   ]
  },
  {
   "cell_type": "code",
   "execution_count": 873,
   "id": "1e0eff82",
   "metadata": {},
   "outputs": [
    {
     "data": {
      "text/plain": [
       "1"
      ]
     },
     "execution_count": 873,
     "metadata": {},
     "output_type": "execute_result"
    }
   ],
   "source": [
    "Based_salary = driver.find_elements_by_xpath('/html/body/div/div/div/main/section[1]/div[2]/div[3]/div[2]/div[1]/div[1]/div/div/div[1]/span')\n",
    "len(Based_salary)"
   ]
  },
  {
   "cell_type": "code",
   "execution_count": null,
   "id": "81613609",
   "metadata": {},
   "outputs": [],
   "source": []
  }
 ],
 "metadata": {
  "kernelspec": {
   "display_name": "Python 3",
   "language": "python",
   "name": "python3"
  },
  "language_info": {
   "codemirror_mode": {
    "name": "ipython",
    "version": 3
   },
   "file_extension": ".py",
   "mimetype": "text/x-python",
   "name": "python",
   "nbconvert_exporter": "python",
   "pygments_lexer": "ipython3",
   "version": "3.8.8"
  }
 },
 "nbformat": 4,
 "nbformat_minor": 5
}
